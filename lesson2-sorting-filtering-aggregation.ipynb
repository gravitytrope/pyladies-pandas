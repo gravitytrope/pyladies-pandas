{
 "cells": [
  {
   "cell_type": "markdown",
   "metadata": {
    "slideshow": {
     "slide_type": "slide"
    }
   },
   "source": [
    "# Lesson 2: Sorting, Filtering, and Aggregation"
   ]
  },
  {
   "cell_type": "markdown",
   "metadata": {
    "slideshow": {
     "slide_type": "skip"
    }
   },
   "source": [
    "# Initial Setup\n",
    "\n",
    "Import libraries and initialize variables to pick up where we left off in Lesson 1."
   ]
  },
  {
   "cell_type": "code",
   "execution_count": 1,
   "metadata": {
    "slideshow": {
     "slide_type": "skip"
    }
   },
   "outputs": [],
   "source": [
    "import pandas as pd"
   ]
  },
  {
   "cell_type": "code",
   "execution_count": 2,
   "metadata": {
    "slideshow": {
     "slide_type": "skip"
    }
   },
   "outputs": [],
   "source": [
    "weather_all = pd.read_csv('data/weather_airports_24hr_snapshot.csv')"
   ]
  },
  {
   "cell_type": "markdown",
   "metadata": {
    "slideshow": {
     "slide_type": "slide"
    }
   },
   "source": [
    "# Sorting\n",
    "\n",
    "- It's often convenient to have data in a sorted form\n",
    "- In Excel, we can sort our data based on the values in a column\n",
    "  - We can do the same with `pandas` DataFrames\n",
    "- We can also use sorting to answer questions about the extreme (highest / lowest) values in our data"
   ]
  },
  {
   "cell_type": "markdown",
   "metadata": {
    "slideshow": {
     "slide_type": "fragment"
    }
   },
   "source": [
    "For example, in the exercises from Lesson 1, we saw that the coldest temperature in `weather_all` was -7.1 C.\n",
    "  - At what station and datetime did this coldest temperature occur?\n",
    "  - What were the weather conditions associated with this coldest temperature?"
   ]
  },
  {
   "cell_type": "markdown",
   "metadata": {
    "slideshow": {
     "slide_type": "fragment"
    }
   },
   "source": [
    "We can answer these questions by using the `sort_values` method to sort the DataFrame based on the values in the temperature column:"
   ]
  },
  {
   "cell_type": "code",
   "execution_count": 3,
   "metadata": {
    "slideshow": {
     "slide_type": "fragment"
    }
   },
   "outputs": [
    {
     "data": {
      "text/html": [
       "<div>\n",
       "<style scoped>\n",
       "    .dataframe tbody tr th:only-of-type {\n",
       "        vertical-align: middle;\n",
       "    }\n",
       "\n",
       "    .dataframe tbody tr th {\n",
       "        vertical-align: top;\n",
       "    }\n",
       "\n",
       "    .dataframe thead th {\n",
       "        text-align: right;\n",
       "    }\n",
       "</style>\n",
       "<table border=\"1\" class=\"dataframe\">\n",
       "  <thead>\n",
       "    <tr style=\"text-align: right;\">\n",
       "      <th></th>\n",
       "      <th>Datetime (Local Standard)</th>\n",
       "      <th>Station ID</th>\n",
       "      <th>Station Name</th>\n",
       "      <th>Timezone</th>\n",
       "      <th>Datetime (UTC)</th>\n",
       "      <th>Temp (deg C)</th>\n",
       "      <th>Dew Point Temp (deg C)</th>\n",
       "      <th>Rel Hum (%)</th>\n",
       "      <th>Wind Dir (deg)</th>\n",
       "      <th>Wind Spd (km/h)</th>\n",
       "      <th>Visibility (km)</th>\n",
       "      <th>Pressure (kPa)</th>\n",
       "      <th>Hmdx</th>\n",
       "      <th>Wind Chill</th>\n",
       "      <th>Conditions</th>\n",
       "    </tr>\n",
       "  </thead>\n",
       "  <tbody>\n",
       "    <tr>\n",
       "      <th>130</th>\n",
       "      <td>2018-05-22 05:00:00</td>\n",
       "      <td>YFB</td>\n",
       "      <td>IQALUIT</td>\n",
       "      <td>EST</td>\n",
       "      <td>2018-05-22 10:00:00</td>\n",
       "      <td>-7.1</td>\n",
       "      <td>-10.5</td>\n",
       "      <td>77.0</td>\n",
       "      <td>310.0</td>\n",
       "      <td>22.0</td>\n",
       "      <td>24.1</td>\n",
       "      <td>100.60</td>\n",
       "      <td>NaN</td>\n",
       "      <td>-15.0</td>\n",
       "      <td>Snow</td>\n",
       "    </tr>\n",
       "    <tr>\n",
       "      <th>129</th>\n",
       "      <td>2018-05-22 04:00:00</td>\n",
       "      <td>YFB</td>\n",
       "      <td>IQALUIT</td>\n",
       "      <td>EST</td>\n",
       "      <td>2018-05-22 09:00:00</td>\n",
       "      <td>-7.0</td>\n",
       "      <td>-10.4</td>\n",
       "      <td>76.0</td>\n",
       "      <td>330.0</td>\n",
       "      <td>23.0</td>\n",
       "      <td>24.1</td>\n",
       "      <td>100.62</td>\n",
       "      <td>NaN</td>\n",
       "      <td>-15.0</td>\n",
       "      <td>Snow</td>\n",
       "    </tr>\n",
       "    <tr>\n",
       "      <th>131</th>\n",
       "      <td>2018-05-22 06:00:00</td>\n",
       "      <td>YFB</td>\n",
       "      <td>IQALUIT</td>\n",
       "      <td>EST</td>\n",
       "      <td>2018-05-22 11:00:00</td>\n",
       "      <td>-6.9</td>\n",
       "      <td>-11.0</td>\n",
       "      <td>73.0</td>\n",
       "      <td>340.0</td>\n",
       "      <td>26.0</td>\n",
       "      <td>9.7</td>\n",
       "      <td>100.59</td>\n",
       "      <td>NaN</td>\n",
       "      <td>-15.0</td>\n",
       "      <td>Snow,Blowing Snow</td>\n",
       "    </tr>\n",
       "    <tr>\n",
       "      <th>127</th>\n",
       "      <td>2018-05-22 02:00:00</td>\n",
       "      <td>YFB</td>\n",
       "      <td>IQALUIT</td>\n",
       "      <td>EST</td>\n",
       "      <td>2018-05-22 07:00:00</td>\n",
       "      <td>-6.6</td>\n",
       "      <td>-9.1</td>\n",
       "      <td>83.0</td>\n",
       "      <td>330.0</td>\n",
       "      <td>16.0</td>\n",
       "      <td>16.1</td>\n",
       "      <td>100.64</td>\n",
       "      <td>NaN</td>\n",
       "      <td>-13.0</td>\n",
       "      <td>Snow</td>\n",
       "    </tr>\n",
       "    <tr>\n",
       "      <th>128</th>\n",
       "      <td>2018-05-22 03:00:00</td>\n",
       "      <td>YFB</td>\n",
       "      <td>IQALUIT</td>\n",
       "      <td>EST</td>\n",
       "      <td>2018-05-22 08:00:00</td>\n",
       "      <td>-6.6</td>\n",
       "      <td>-9.8</td>\n",
       "      <td>78.0</td>\n",
       "      <td>330.0</td>\n",
       "      <td>25.0</td>\n",
       "      <td>32.2</td>\n",
       "      <td>100.61</td>\n",
       "      <td>NaN</td>\n",
       "      <td>-14.0</td>\n",
       "      <td>Snow</td>\n",
       "    </tr>\n",
       "  </tbody>\n",
       "</table>\n",
       "</div>"
      ],
      "text/plain": [
       "    Datetime (Local Standard) Station ID Station Name Timezone  \\\n",
       "130       2018-05-22 05:00:00        YFB      IQALUIT      EST   \n",
       "129       2018-05-22 04:00:00        YFB      IQALUIT      EST   \n",
       "131       2018-05-22 06:00:00        YFB      IQALUIT      EST   \n",
       "127       2018-05-22 02:00:00        YFB      IQALUIT      EST   \n",
       "128       2018-05-22 03:00:00        YFB      IQALUIT      EST   \n",
       "\n",
       "          Datetime (UTC)  Temp (deg C)  Dew Point Temp (deg C)  Rel Hum (%)  \\\n",
       "130  2018-05-22 10:00:00          -7.1                   -10.5         77.0   \n",
       "129  2018-05-22 09:00:00          -7.0                   -10.4         76.0   \n",
       "131  2018-05-22 11:00:00          -6.9                   -11.0         73.0   \n",
       "127  2018-05-22 07:00:00          -6.6                    -9.1         83.0   \n",
       "128  2018-05-22 08:00:00          -6.6                    -9.8         78.0   \n",
       "\n",
       "     Wind Dir (deg)  Wind Spd (km/h)  Visibility (km)  Pressure (kPa)  Hmdx  \\\n",
       "130           310.0             22.0             24.1          100.60   NaN   \n",
       "129           330.0             23.0             24.1          100.62   NaN   \n",
       "131           340.0             26.0              9.7          100.59   NaN   \n",
       "127           330.0             16.0             16.1          100.64   NaN   \n",
       "128           330.0             25.0             32.2          100.61   NaN   \n",
       "\n",
       "     Wind Chill         Conditions  \n",
       "130       -15.0               Snow  \n",
       "129       -15.0               Snow  \n",
       "131       -15.0  Snow,Blowing Snow  \n",
       "127       -13.0               Snow  \n",
       "128       -14.0               Snow  "
      ]
     },
     "execution_count": 3,
     "metadata": {},
     "output_type": "execute_result"
    }
   ],
   "source": [
    "weather_sorted = weather_all.sort_values('Temp (deg C)')\n",
    "weather_sorted.head()"
   ]
  },
  {
   "cell_type": "markdown",
   "metadata": {
    "slideshow": {
     "slide_type": "fragment"
    }
   },
   "source": [
    "- The coldest temperature was at Iqaluit at 5am local time, accompanied by snow\n",
    "- Note: the above code does not modify our original DataFrame `weather_all`"
   ]
  },
  {
   "cell_type": "markdown",
   "metadata": {
    "slideshow": {
     "slide_type": "slide"
    }
   },
   "source": [
    "- `sort_values` sorts in ascending order (lowest to highest) by default\n",
    "- We can switch this using the `ascending` keyword argument:"
   ]
  },
  {
   "cell_type": "code",
   "execution_count": 4,
   "metadata": {
    "slideshow": {
     "slide_type": "fragment"
    }
   },
   "outputs": [
    {
     "data": {
      "text/html": [
       "<div>\n",
       "<style scoped>\n",
       "    .dataframe tbody tr th:only-of-type {\n",
       "        vertical-align: middle;\n",
       "    }\n",
       "\n",
       "    .dataframe tbody tr th {\n",
       "        vertical-align: top;\n",
       "    }\n",
       "\n",
       "    .dataframe thead th {\n",
       "        text-align: right;\n",
       "    }\n",
       "</style>\n",
       "<table border=\"1\" class=\"dataframe\">\n",
       "  <thead>\n",
       "    <tr style=\"text-align: right;\">\n",
       "      <th></th>\n",
       "      <th>Datetime (Local Standard)</th>\n",
       "      <th>Station ID</th>\n",
       "      <th>Station Name</th>\n",
       "      <th>Timezone</th>\n",
       "      <th>Datetime (UTC)</th>\n",
       "      <th>Temp (deg C)</th>\n",
       "      <th>Dew Point Temp (deg C)</th>\n",
       "      <th>Rel Hum (%)</th>\n",
       "      <th>Wind Dir (deg)</th>\n",
       "      <th>Wind Spd (km/h)</th>\n",
       "      <th>Visibility (km)</th>\n",
       "      <th>Pressure (kPa)</th>\n",
       "      <th>Hmdx</th>\n",
       "      <th>Wind Chill</th>\n",
       "      <th>Conditions</th>\n",
       "    </tr>\n",
       "  </thead>\n",
       "  <tbody>\n",
       "    <tr>\n",
       "      <th>264</th>\n",
       "      <td>2018-05-21 18:00:00</td>\n",
       "      <td>YXE</td>\n",
       "      <td>SASKATOON</td>\n",
       "      <td>CST</td>\n",
       "      <td>2018-05-22 00:00:00</td>\n",
       "      <td>28.6</td>\n",
       "      <td>4.9</td>\n",
       "      <td>22.0</td>\n",
       "      <td>310.0</td>\n",
       "      <td>26.0</td>\n",
       "      <td>24.1</td>\n",
       "      <td>94.79</td>\n",
       "      <td>28.0</td>\n",
       "      <td>NaN</td>\n",
       "      <td>Mostly Cloudy</td>\n",
       "    </tr>\n",
       "    <tr>\n",
       "      <th>260</th>\n",
       "      <td>2018-05-22 14:00:00</td>\n",
       "      <td>YQR</td>\n",
       "      <td>REGINA</td>\n",
       "      <td>CST</td>\n",
       "      <td>2018-05-22 20:00:00</td>\n",
       "      <td>28.6</td>\n",
       "      <td>5.6</td>\n",
       "      <td>23.0</td>\n",
       "      <td>320.0</td>\n",
       "      <td>21.0</td>\n",
       "      <td>24.1</td>\n",
       "      <td>94.42</td>\n",
       "      <td>28.0</td>\n",
       "      <td>NaN</td>\n",
       "      <td>Mainly Clear</td>\n",
       "    </tr>\n",
       "    <tr>\n",
       "      <th>263</th>\n",
       "      <td>2018-05-22 17:00:00</td>\n",
       "      <td>YQR</td>\n",
       "      <td>REGINA</td>\n",
       "      <td>CST</td>\n",
       "      <td>2018-05-22 23:00:00</td>\n",
       "      <td>28.5</td>\n",
       "      <td>5.5</td>\n",
       "      <td>23.0</td>\n",
       "      <td>110.0</td>\n",
       "      <td>20.0</td>\n",
       "      <td>24.1</td>\n",
       "      <td>94.42</td>\n",
       "      <td>28.0</td>\n",
       "      <td>NaN</td>\n",
       "      <td>Mostly Cloudy</td>\n",
       "    </tr>\n",
       "    <tr>\n",
       "      <th>265</th>\n",
       "      <td>2018-05-21 19:00:00</td>\n",
       "      <td>YXE</td>\n",
       "      <td>SASKATOON</td>\n",
       "      <td>CST</td>\n",
       "      <td>2018-05-22 01:00:00</td>\n",
       "      <td>28.5</td>\n",
       "      <td>4.7</td>\n",
       "      <td>22.0</td>\n",
       "      <td>310.0</td>\n",
       "      <td>19.0</td>\n",
       "      <td>24.1</td>\n",
       "      <td>94.80</td>\n",
       "      <td>28.0</td>\n",
       "      <td>NaN</td>\n",
       "      <td>Mostly Cloudy</td>\n",
       "    </tr>\n",
       "    <tr>\n",
       "      <th>453</th>\n",
       "      <td>2018-05-22 15:00:00</td>\n",
       "      <td>YWG</td>\n",
       "      <td>WINNIPEG</td>\n",
       "      <td>CST</td>\n",
       "      <td>2018-05-22 21:00:00</td>\n",
       "      <td>28.5</td>\n",
       "      <td>7.4</td>\n",
       "      <td>26.0</td>\n",
       "      <td>160.0</td>\n",
       "      <td>21.0</td>\n",
       "      <td>24.1</td>\n",
       "      <td>98.49</td>\n",
       "      <td>29.0</td>\n",
       "      <td>NaN</td>\n",
       "      <td>Mostly Cloudy</td>\n",
       "    </tr>\n",
       "  </tbody>\n",
       "</table>\n",
       "</div>"
      ],
      "text/plain": [
       "    Datetime (Local Standard) Station ID Station Name Timezone  \\\n",
       "264       2018-05-21 18:00:00        YXE    SASKATOON      CST   \n",
       "260       2018-05-22 14:00:00        YQR       REGINA      CST   \n",
       "263       2018-05-22 17:00:00        YQR       REGINA      CST   \n",
       "265       2018-05-21 19:00:00        YXE    SASKATOON      CST   \n",
       "453       2018-05-22 15:00:00        YWG     WINNIPEG      CST   \n",
       "\n",
       "          Datetime (UTC)  Temp (deg C)  Dew Point Temp (deg C)  Rel Hum (%)  \\\n",
       "264  2018-05-22 00:00:00          28.6                     4.9         22.0   \n",
       "260  2018-05-22 20:00:00          28.6                     5.6         23.0   \n",
       "263  2018-05-22 23:00:00          28.5                     5.5         23.0   \n",
       "265  2018-05-22 01:00:00          28.5                     4.7         22.0   \n",
       "453  2018-05-22 21:00:00          28.5                     7.4         26.0   \n",
       "\n",
       "     Wind Dir (deg)  Wind Spd (km/h)  Visibility (km)  Pressure (kPa)  Hmdx  \\\n",
       "264           310.0             26.0             24.1           94.79  28.0   \n",
       "260           320.0             21.0             24.1           94.42  28.0   \n",
       "263           110.0             20.0             24.1           94.42  28.0   \n",
       "265           310.0             19.0             24.1           94.80  28.0   \n",
       "453           160.0             21.0             24.1           98.49  29.0   \n",
       "\n",
       "     Wind Chill     Conditions  \n",
       "264         NaN  Mostly Cloudy  \n",
       "260         NaN   Mainly Clear  \n",
       "263         NaN  Mostly Cloudy  \n",
       "265         NaN  Mostly Cloudy  \n",
       "453         NaN  Mostly Cloudy  "
      ]
     },
     "execution_count": 4,
     "metadata": {},
     "output_type": "execute_result"
    }
   ],
   "source": [
    "weather_all.sort_values('Temp (deg C)', ascending=False).head()"
   ]
  },
  {
   "cell_type": "markdown",
   "metadata": {
    "slideshow": {
     "slide_type": "slide"
    }
   },
   "source": [
    "# Filtering\n",
    "\n",
    "We can extract rows from a DataFrame or Series based on a criteria\n",
    "- Similar to applying a filter in Excel"
   ]
  },
  {
   "cell_type": "markdown",
   "metadata": {
    "slideshow": {
     "slide_type": "fragment"
    }
   },
   "source": [
    "With filtering (plus the other techniques we've learned so far), we can answer questions like:\n",
    "- How many stations had temperature(s) above 25 C?\n",
    "- Which station had the most hours with temperatures above 25 C?"
   ]
  },
  {
   "cell_type": "markdown",
   "metadata": {
    "slideshow": {
     "slide_type": "slide"
    }
   },
   "source": [
    "First we use the comparison operator `>` on the temperature column:"
   ]
  },
  {
   "cell_type": "code",
   "execution_count": 5,
   "metadata": {
    "slideshow": {
     "slide_type": "fragment"
    }
   },
   "outputs": [
    {
     "data": {
      "text/plain": [
       "0      False\n",
       "1      False\n",
       "2      False\n",
       "3      False\n",
       "4      False\n",
       "5      False\n",
       "6      False\n",
       "7      False\n",
       "8      False\n",
       "9      False\n",
       "10     False\n",
       "11     False\n",
       "12     False\n",
       "13     False\n",
       "14     False\n",
       "15     False\n",
       "16     False\n",
       "17     False\n",
       "18     False\n",
       "19     False\n",
       "20     False\n",
       "21     False\n",
       "22      True\n",
       "23      True\n",
       "24     False\n",
       "25     False\n",
       "26     False\n",
       "27     False\n",
       "28     False\n",
       "29     False\n",
       "       ...  \n",
       "450     True\n",
       "451     True\n",
       "452     True\n",
       "453     True\n",
       "454     True\n",
       "455     True\n",
       "456    False\n",
       "457    False\n",
       "458    False\n",
       "459    False\n",
       "460    False\n",
       "461    False\n",
       "462    False\n",
       "463    False\n",
       "464    False\n",
       "465    False\n",
       "466    False\n",
       "467    False\n",
       "468    False\n",
       "469    False\n",
       "470    False\n",
       "471    False\n",
       "472    False\n",
       "473    False\n",
       "474    False\n",
       "475    False\n",
       "476    False\n",
       "477    False\n",
       "478    False\n",
       "479    False\n",
       "Name: Temp (deg C), Length: 480, dtype: bool"
      ]
     },
     "execution_count": 5,
     "metadata": {},
     "output_type": "execute_result"
    }
   ],
   "source": [
    "warm = weather_all['Temp (deg C)'] > 25\n",
    "warm"
   ]
  },
  {
   "cell_type": "markdown",
   "metadata": {
    "slideshow": {
     "slide_type": "fragment"
    }
   },
   "source": [
    "- `warm` is a Boolean Series of length equal to the number of rows of `weather_all`\n",
    "- The index of `warm` is equal to the index of `weather_all`\n",
    "- We can use `value_counts` to find out how many rows with temperatures > 25 C are in our data:"
   ]
  },
  {
   "cell_type": "code",
   "execution_count": 6,
   "metadata": {
    "slideshow": {
     "slide_type": "fragment"
    }
   },
   "outputs": [
    {
     "data": {
      "text/plain": [
       "False    442\n",
       "True      38\n",
       "Name: Temp (deg C), dtype: int64"
      ]
     },
     "execution_count": 6,
     "metadata": {},
     "output_type": "execute_result"
    }
   ],
   "source": [
    "warm.value_counts()"
   ]
  },
  {
   "cell_type": "markdown",
   "metadata": {
    "slideshow": {
     "slide_type": "fragment"
    }
   },
   "source": [
    "Alternatively, we can find the number of rows by using the `sum` method:\n",
    "- When you sum a Boolean series, `True` is treated as 1 and `False` as 0"
   ]
  },
  {
   "cell_type": "code",
   "execution_count": 7,
   "metadata": {
    "slideshow": {
     "slide_type": "fragment"
    }
   },
   "outputs": [
    {
     "data": {
      "text/plain": [
       "38"
      ]
     },
     "execution_count": 7,
     "metadata": {},
     "output_type": "execute_result"
    }
   ],
   "source": [
    "warm.sum()"
   ]
  },
  {
   "cell_type": "markdown",
   "metadata": {
    "slideshow": {
     "slide_type": "fragment"
    }
   },
   "source": [
    "Temperatures are greater than 25 C in 38 rows of our data, but this doesn't tell us the number of stations, since a station might have multiple rows (multiple hours) with temperature > 25 C."
   ]
  },
  {
   "cell_type": "markdown",
   "metadata": {
    "slideshow": {
     "slide_type": "slide"
    }
   },
   "source": [
    "We can use the Boolean Series `warm` as a **filter** to extract the rows of `weather_all` which have temperature > 25 C\n",
    "- Previously we used square brackets and a column name to extract a *column* from a DataFrame (e.g. `series_X = df['X']`)\n",
    "- Now we use square brackets and a Boolean Series to extract *rows* from a DataFrame"
   ]
  },
  {
   "cell_type": "code",
   "execution_count": 8,
   "metadata": {
    "scrolled": false,
    "slideshow": {
     "slide_type": "fragment"
    }
   },
   "outputs": [
    {
     "data": {
      "text/html": [
       "<div>\n",
       "<style scoped>\n",
       "    .dataframe tbody tr th:only-of-type {\n",
       "        vertical-align: middle;\n",
       "    }\n",
       "\n",
       "    .dataframe tbody tr th {\n",
       "        vertical-align: top;\n",
       "    }\n",
       "\n",
       "    .dataframe thead th {\n",
       "        text-align: right;\n",
       "    }\n",
       "</style>\n",
       "<table border=\"1\" class=\"dataframe\">\n",
       "  <thead>\n",
       "    <tr style=\"text-align: right;\">\n",
       "      <th></th>\n",
       "      <th>Datetime (Local Standard)</th>\n",
       "      <th>Station ID</th>\n",
       "      <th>Station Name</th>\n",
       "      <th>Timezone</th>\n",
       "      <th>Datetime (UTC)</th>\n",
       "      <th>Temp (deg C)</th>\n",
       "      <th>Dew Point Temp (deg C)</th>\n",
       "      <th>Rel Hum (%)</th>\n",
       "      <th>Wind Dir (deg)</th>\n",
       "      <th>Wind Spd (km/h)</th>\n",
       "      <th>Visibility (km)</th>\n",
       "      <th>Pressure (kPa)</th>\n",
       "      <th>Hmdx</th>\n",
       "      <th>Wind Chill</th>\n",
       "      <th>Conditions</th>\n",
       "    </tr>\n",
       "  </thead>\n",
       "  <tbody>\n",
       "    <tr>\n",
       "      <th>22</th>\n",
       "      <td>2018-05-22 15:00:00</td>\n",
       "      <td>YYC</td>\n",
       "      <td>CALGARY</td>\n",
       "      <td>MST</td>\n",
       "      <td>2018-05-22 22:00:00</td>\n",
       "      <td>25.5</td>\n",
       "      <td>4.4</td>\n",
       "      <td>25.0</td>\n",
       "      <td>140.0</td>\n",
       "      <td>16.0</td>\n",
       "      <td>48.3</td>\n",
       "      <td>88.96</td>\n",
       "      <td>25.0</td>\n",
       "      <td>NaN</td>\n",
       "      <td>Mainly Clear</td>\n",
       "    </tr>\n",
       "    <tr>\n",
       "      <th>23</th>\n",
       "      <td>2018-05-22 16:00:00</td>\n",
       "      <td>YYC</td>\n",
       "      <td>CALGARY</td>\n",
       "      <td>MST</td>\n",
       "      <td>2018-05-22 23:00:00</td>\n",
       "      <td>25.4</td>\n",
       "      <td>2.8</td>\n",
       "      <td>23.0</td>\n",
       "      <td>120.0</td>\n",
       "      <td>21.0</td>\n",
       "      <td>48.3</td>\n",
       "      <td>88.93</td>\n",
       "      <td>NaN</td>\n",
       "      <td>NaN</td>\n",
       "      <td>Mainly Clear</td>\n",
       "    </tr>\n",
       "    <tr>\n",
       "      <th>69</th>\n",
       "      <td>2018-05-22 14:00:00</td>\n",
       "      <td>YEG</td>\n",
       "      <td>EDMONTON</td>\n",
       "      <td>MST</td>\n",
       "      <td>2018-05-22 21:00:00</td>\n",
       "      <td>27.0</td>\n",
       "      <td>4.3</td>\n",
       "      <td>23.0</td>\n",
       "      <td>100.0</td>\n",
       "      <td>16.0</td>\n",
       "      <td>24.1</td>\n",
       "      <td>92.99</td>\n",
       "      <td>26.0</td>\n",
       "      <td>NaN</td>\n",
       "      <td>Mainly Clear</td>\n",
       "    </tr>\n",
       "    <tr>\n",
       "      <th>70</th>\n",
       "      <td>2018-05-22 15:00:00</td>\n",
       "      <td>YEG</td>\n",
       "      <td>EDMONTON</td>\n",
       "      <td>MST</td>\n",
       "      <td>2018-05-22 22:00:00</td>\n",
       "      <td>26.7</td>\n",
       "      <td>3.5</td>\n",
       "      <td>22.0</td>\n",
       "      <td>100.0</td>\n",
       "      <td>4.0</td>\n",
       "      <td>24.1</td>\n",
       "      <td>92.97</td>\n",
       "      <td>26.0</td>\n",
       "      <td>NaN</td>\n",
       "      <td>Mainly Clear</td>\n",
       "    </tr>\n",
       "    <tr>\n",
       "      <th>71</th>\n",
       "      <td>2018-05-22 16:00:00</td>\n",
       "      <td>YEG</td>\n",
       "      <td>EDMONTON</td>\n",
       "      <td>MST</td>\n",
       "      <td>2018-05-22 23:00:00</td>\n",
       "      <td>27.3</td>\n",
       "      <td>3.6</td>\n",
       "      <td>21.0</td>\n",
       "      <td>100.0</td>\n",
       "      <td>11.0</td>\n",
       "      <td>24.1</td>\n",
       "      <td>92.94</td>\n",
       "      <td>26.0</td>\n",
       "      <td>NaN</td>\n",
       "      <td>Mainly Clear</td>\n",
       "    </tr>\n",
       "  </tbody>\n",
       "</table>\n",
       "</div>"
      ],
      "text/plain": [
       "   Datetime (Local Standard) Station ID Station Name Timezone  \\\n",
       "22       2018-05-22 15:00:00        YYC      CALGARY      MST   \n",
       "23       2018-05-22 16:00:00        YYC      CALGARY      MST   \n",
       "69       2018-05-22 14:00:00        YEG     EDMONTON      MST   \n",
       "70       2018-05-22 15:00:00        YEG     EDMONTON      MST   \n",
       "71       2018-05-22 16:00:00        YEG     EDMONTON      MST   \n",
       "\n",
       "         Datetime (UTC)  Temp (deg C)  Dew Point Temp (deg C)  Rel Hum (%)  \\\n",
       "22  2018-05-22 22:00:00          25.5                     4.4         25.0   \n",
       "23  2018-05-22 23:00:00          25.4                     2.8         23.0   \n",
       "69  2018-05-22 21:00:00          27.0                     4.3         23.0   \n",
       "70  2018-05-22 22:00:00          26.7                     3.5         22.0   \n",
       "71  2018-05-22 23:00:00          27.3                     3.6         21.0   \n",
       "\n",
       "    Wind Dir (deg)  Wind Spd (km/h)  Visibility (km)  Pressure (kPa)  Hmdx  \\\n",
       "22           140.0             16.0             48.3           88.96  25.0   \n",
       "23           120.0             21.0             48.3           88.93   NaN   \n",
       "69           100.0             16.0             24.1           92.99  26.0   \n",
       "70           100.0              4.0             24.1           92.97  26.0   \n",
       "71           100.0             11.0             24.1           92.94  26.0   \n",
       "\n",
       "    Wind Chill    Conditions  \n",
       "22         NaN  Mainly Clear  \n",
       "23         NaN  Mainly Clear  \n",
       "69         NaN  Mainly Clear  \n",
       "70         NaN  Mainly Clear  \n",
       "71         NaN  Mainly Clear  "
      ]
     },
     "execution_count": 8,
     "metadata": {},
     "output_type": "execute_result"
    }
   ],
   "source": [
    "weather_warm = weather_all[warm]\n",
    "weather_warm.head()"
   ]
  },
  {
   "cell_type": "code",
   "execution_count": 9,
   "metadata": {
    "slideshow": {
     "slide_type": "fragment"
    }
   },
   "outputs": [
    {
     "data": {
      "text/plain": [
       "(38, 15)"
      ]
     },
     "execution_count": 9,
     "metadata": {},
     "output_type": "execute_result"
    }
   ],
   "source": [
    "weather_warm.shape"
   ]
  },
  {
   "cell_type": "markdown",
   "metadata": {
    "slideshow": {
     "slide_type": "fragment"
    }
   },
   "source": [
    "`weather_warm` is a DataFrame containing only the 38 rows of `weather_all` that have temperature > 25 C."
   ]
  },
  {
   "cell_type": "markdown",
   "metadata": {
    "slideshow": {
     "slide_type": "slide"
    }
   },
   "source": [
    "The number of unique stations with temperature > 25 C is:"
   ]
  },
  {
   "cell_type": "code",
   "execution_count": 10,
   "metadata": {
    "slideshow": {
     "slide_type": "fragment"
    }
   },
   "outputs": [
    {
     "data": {
      "text/plain": [
       "8"
      ]
     },
     "execution_count": 10,
     "metadata": {},
     "output_type": "execute_result"
    }
   ],
   "source": [
    "weather_warm['Station Name'].nunique()"
   ]
  },
  {
   "cell_type": "markdown",
   "metadata": {
    "slideshow": {
     "slide_type": "fragment"
    }
   },
   "source": [
    "These stations and the number of hours at each station with temperature > 25 C are:"
   ]
  },
  {
   "cell_type": "code",
   "execution_count": 11,
   "metadata": {
    "slideshow": {
     "slide_type": "fragment"
    }
   },
   "outputs": [
    {
     "data": {
      "text/plain": [
       "REGINA           8\n",
       "WINNIPEG         8\n",
       "THUNDER BAY      7\n",
       "SASKATOON        6\n",
       "EDMONTON         3\n",
       "CALGARY          2\n",
       "QUEBEC           2\n",
       "PRINCE GEORGE    2\n",
       "Name: Station Name, dtype: int64"
      ]
     },
     "execution_count": 11,
     "metadata": {},
     "output_type": "execute_result"
    }
   ],
   "source": [
    "weather_warm['Station Name'].value_counts()"
   ]
  },
  {
   "cell_type": "markdown",
   "metadata": {
    "slideshow": {
     "slide_type": "fragment"
    }
   },
   "source": [
    "So to answer our original questions:\n",
    "- There are 8 stations with one or more hourly temperatures exceeding 25 C\n",
    "- Winnipeg and Regina are tied for first place for temperatures exceeding 25 C, with 8 hours each"
   ]
  },
  {
   "cell_type": "markdown",
   "metadata": {
    "slideshow": {
     "slide_type": "slide"
    }
   },
   "source": [
    "- We can use any of the comparison operators (`>`, `>=`, `<`, `<=`, `==`, `!=`) on a DataFrame column to create Boolean Series for filtering our data\n",
    "- We can also apply comparison operators and other functions to an entire DataFrame to create a DataFrame of Boolean values corresponding to some criteria\n",
    "  - This can be useful for counting how often something occurs in each row or column of data, such as missing values"
   ]
  },
  {
   "cell_type": "markdown",
   "metadata": {
    "slideshow": {
     "slide_type": "skip"
    }
   },
   "source": [
    "---"
   ]
  },
  {
   "cell_type": "markdown",
   "metadata": {
    "slideshow": {
     "slide_type": "slide"
    }
   },
   "source": [
    "# Interlude: Missing Data\n",
    "\n",
    "With any data that we're working with, it's good to know:\n",
    "  - How many values are missing?\n",
    "  - Where are the empty cells located in our DataFrame (or Series)?"
   ]
  },
  {
   "cell_type": "markdown",
   "metadata": {
    "slideshow": {
     "slide_type": "fragment"
    }
   },
   "source": [
    "The `isnull` method returns `True` when data is missing (`NaN`) and `False` otherwise\n",
    "- We can use this method to locate and count missing values"
   ]
  },
  {
   "cell_type": "code",
   "execution_count": 12,
   "metadata": {
    "slideshow": {
     "slide_type": "fragment"
    }
   },
   "outputs": [
    {
     "data": {
      "text/html": [
       "<div>\n",
       "<style scoped>\n",
       "    .dataframe tbody tr th:only-of-type {\n",
       "        vertical-align: middle;\n",
       "    }\n",
       "\n",
       "    .dataframe tbody tr th {\n",
       "        vertical-align: top;\n",
       "    }\n",
       "\n",
       "    .dataframe thead th {\n",
       "        text-align: right;\n",
       "    }\n",
       "</style>\n",
       "<table border=\"1\" class=\"dataframe\">\n",
       "  <thead>\n",
       "    <tr style=\"text-align: right;\">\n",
       "      <th></th>\n",
       "      <th>Datetime (Local Standard)</th>\n",
       "      <th>Station ID</th>\n",
       "      <th>Station Name</th>\n",
       "      <th>Timezone</th>\n",
       "      <th>Datetime (UTC)</th>\n",
       "      <th>Temp (deg C)</th>\n",
       "      <th>Dew Point Temp (deg C)</th>\n",
       "      <th>Rel Hum (%)</th>\n",
       "      <th>Wind Dir (deg)</th>\n",
       "      <th>Wind Spd (km/h)</th>\n",
       "      <th>Visibility (km)</th>\n",
       "      <th>Pressure (kPa)</th>\n",
       "      <th>Hmdx</th>\n",
       "      <th>Wind Chill</th>\n",
       "      <th>Conditions</th>\n",
       "    </tr>\n",
       "  </thead>\n",
       "  <tbody>\n",
       "    <tr>\n",
       "      <th>0</th>\n",
       "      <td>False</td>\n",
       "      <td>False</td>\n",
       "      <td>False</td>\n",
       "      <td>False</td>\n",
       "      <td>False</td>\n",
       "      <td>False</td>\n",
       "      <td>False</td>\n",
       "      <td>False</td>\n",
       "      <td>False</td>\n",
       "      <td>False</td>\n",
       "      <td>False</td>\n",
       "      <td>False</td>\n",
       "      <td>True</td>\n",
       "      <td>True</td>\n",
       "      <td>False</td>\n",
       "    </tr>\n",
       "    <tr>\n",
       "      <th>1</th>\n",
       "      <td>False</td>\n",
       "      <td>False</td>\n",
       "      <td>False</td>\n",
       "      <td>False</td>\n",
       "      <td>False</td>\n",
       "      <td>False</td>\n",
       "      <td>False</td>\n",
       "      <td>False</td>\n",
       "      <td>False</td>\n",
       "      <td>False</td>\n",
       "      <td>False</td>\n",
       "      <td>False</td>\n",
       "      <td>True</td>\n",
       "      <td>True</td>\n",
       "      <td>False</td>\n",
       "    </tr>\n",
       "    <tr>\n",
       "      <th>2</th>\n",
       "      <td>False</td>\n",
       "      <td>False</td>\n",
       "      <td>False</td>\n",
       "      <td>False</td>\n",
       "      <td>False</td>\n",
       "      <td>False</td>\n",
       "      <td>False</td>\n",
       "      <td>False</td>\n",
       "      <td>False</td>\n",
       "      <td>False</td>\n",
       "      <td>False</td>\n",
       "      <td>False</td>\n",
       "      <td>True</td>\n",
       "      <td>True</td>\n",
       "      <td>False</td>\n",
       "    </tr>\n",
       "    <tr>\n",
       "      <th>3</th>\n",
       "      <td>False</td>\n",
       "      <td>False</td>\n",
       "      <td>False</td>\n",
       "      <td>False</td>\n",
       "      <td>False</td>\n",
       "      <td>False</td>\n",
       "      <td>False</td>\n",
       "      <td>False</td>\n",
       "      <td>False</td>\n",
       "      <td>False</td>\n",
       "      <td>False</td>\n",
       "      <td>False</td>\n",
       "      <td>True</td>\n",
       "      <td>True</td>\n",
       "      <td>False</td>\n",
       "    </tr>\n",
       "    <tr>\n",
       "      <th>4</th>\n",
       "      <td>False</td>\n",
       "      <td>False</td>\n",
       "      <td>False</td>\n",
       "      <td>False</td>\n",
       "      <td>False</td>\n",
       "      <td>False</td>\n",
       "      <td>False</td>\n",
       "      <td>False</td>\n",
       "      <td>False</td>\n",
       "      <td>False</td>\n",
       "      <td>False</td>\n",
       "      <td>False</td>\n",
       "      <td>True</td>\n",
       "      <td>True</td>\n",
       "      <td>False</td>\n",
       "    </tr>\n",
       "  </tbody>\n",
       "</table>\n",
       "</div>"
      ],
      "text/plain": [
       "   Datetime (Local Standard)  Station ID  Station Name  Timezone  \\\n",
       "0                      False       False         False     False   \n",
       "1                      False       False         False     False   \n",
       "2                      False       False         False     False   \n",
       "3                      False       False         False     False   \n",
       "4                      False       False         False     False   \n",
       "\n",
       "   Datetime (UTC)  Temp (deg C)  Dew Point Temp (deg C)  Rel Hum (%)  \\\n",
       "0           False         False                   False        False   \n",
       "1           False         False                   False        False   \n",
       "2           False         False                   False        False   \n",
       "3           False         False                   False        False   \n",
       "4           False         False                   False        False   \n",
       "\n",
       "   Wind Dir (deg)  Wind Spd (km/h)  Visibility (km)  Pressure (kPa)  Hmdx  \\\n",
       "0           False            False            False           False  True   \n",
       "1           False            False            False           False  True   \n",
       "2           False            False            False           False  True   \n",
       "3           False            False            False           False  True   \n",
       "4           False            False            False           False  True   \n",
       "\n",
       "   Wind Chill  Conditions  \n",
       "0        True       False  \n",
       "1        True       False  \n",
       "2        True       False  \n",
       "3        True       False  \n",
       "4        True       False  "
      ]
     },
     "execution_count": 12,
     "metadata": {},
     "output_type": "execute_result"
    }
   ],
   "source": [
    "weather_missing = weather_all.isnull()\n",
    "weather_missing.head()"
   ]
  },
  {
   "cell_type": "markdown",
   "metadata": {
    "slideshow": {
     "slide_type": "fragment"
    }
   },
   "source": [
    "- `weather_missing` is a Boolean DataFrame\n",
    "- The `sum` method will sum the Boolean values along each column and give us the missing counts:"
   ]
  },
  {
   "cell_type": "code",
   "execution_count": 13,
   "metadata": {
    "slideshow": {
     "slide_type": "fragment"
    }
   },
   "outputs": [
    {
     "data": {
      "text/plain": [
       "Datetime (Local Standard)      0\n",
       "Station ID                     0\n",
       "Station Name                   0\n",
       "Timezone                       0\n",
       "Datetime (UTC)                 0\n",
       "Temp (deg C)                   1\n",
       "Dew Point Temp (deg C)         1\n",
       "Rel Hum (%)                    1\n",
       "Wind Dir (deg)                17\n",
       "Wind Spd (km/h)                1\n",
       "Visibility (km)                1\n",
       "Pressure (kPa)                 1\n",
       "Hmdx                         439\n",
       "Wind Chill                   455\n",
       "Conditions                     1\n",
       "dtype: int64"
      ]
     },
     "execution_count": 13,
     "metadata": {},
     "output_type": "execute_result"
    }
   ],
   "source": [
    "weather_missing.sum()"
   ]
  },
  {
   "cell_type": "markdown",
   "metadata": {
    "slideshow": {
     "slide_type": "fragment"
    }
   },
   "source": [
    "- With `pandas` tools, it is very easy to assess the completeness of your data and drill down to find exactly where any missing values are occurring\n",
    "- Other useful methods for handling missing data include `dropna`, `fillna`, and `interpolate`"
   ]
  },
  {
   "cell_type": "markdown",
   "metadata": {
    "slideshow": {
     "slide_type": "skip"
    }
   },
   "source": [
    "---"
   ]
  },
  {
   "cell_type": "markdown",
   "metadata": {
    "slideshow": {
     "slide_type": "slide"
    }
   },
   "source": [
    "# Exercise 2.1\n",
    "\n",
    "a) Create a new DataFrame which contains only the rows of `weather_all` where the station name is `'SASKATOON'`\n",
    "\n",
    "b) Display the Saskatoon data sorted on the `'Wind Spd (km/h)'` column in descending order. What is the fastest wind speed and what are the corresponding datetime and temperature?\n",
    "\n",
    "c) Compute the mean values for the Saskatoon data."
   ]
  },
  {
   "cell_type": "markdown",
   "metadata": {
    "slideshow": {
     "slide_type": "slide"
    }
   },
   "source": [
    "a) Create a new DataFrame which contains only the rows of `weather_all` where the station name is `'SASKATOON'`"
   ]
  },
  {
   "cell_type": "code",
   "execution_count": null,
   "metadata": {},
   "outputs": [],
   "source": []
  },
  {
   "cell_type": "code",
   "execution_count": null,
   "metadata": {},
   "outputs": [],
   "source": []
  },
  {
   "cell_type": "code",
   "execution_count": null,
   "metadata": {
    "slideshow": {
     "slide_type": "-"
    }
   },
   "outputs": [],
   "source": []
  },
  {
   "cell_type": "markdown",
   "metadata": {
    "slideshow": {
     "slide_type": "slide"
    }
   },
   "source": [
    "b) Display the Saskatoon data sorted on the `'Wind Spd (km/h)'` column in descending order. What is the fastest wind speed and what are the corresponding datetime and temperature?"
   ]
  },
  {
   "cell_type": "code",
   "execution_count": null,
   "metadata": {
    "slideshow": {
     "slide_type": "-"
    }
   },
   "outputs": [],
   "source": []
  },
  {
   "cell_type": "markdown",
   "metadata": {
    "slideshow": {
     "slide_type": "slide"
    }
   },
   "source": [
    "c) Compute the mean values for the Saskatoon data."
   ]
  },
  {
   "cell_type": "code",
   "execution_count": null,
   "metadata": {
    "slideshow": {
     "slide_type": "-"
    }
   },
   "outputs": [],
   "source": []
  },
  {
   "cell_type": "markdown",
   "metadata": {
    "slideshow": {
     "slide_type": "slide"
    }
   },
   "source": [
    "# Aggregation\n",
    "\n",
    "- In the previous exercise, we used a filter to extract data for Saskatoon and compute the mean values for this station\n",
    "- We could repeat this procedure for each station in our data, but it would be slow and tedious\n",
    "- Luckily, with `pandas` there is a better way: using aggregation to compute statistics for groups within our data\n",
    "  - Similar to pivot tables in Excel or `GROUPBY` queries in SQL"
   ]
  },
  {
   "cell_type": "markdown",
   "metadata": {
    "slideshow": {
     "slide_type": "fragment"
    }
   },
   "source": [
    "With aggregation, we can answer questions such as:\n",
    "  - What are the mean, minimum, and maximum temperatures *at each station* in `weather_all`?"
   ]
  },
  {
   "cell_type": "markdown",
   "metadata": {
    "slideshow": {
     "slide_type": "slide"
    }
   },
   "source": [
    "For simple aggregations, we can use the `groupby` method chained with a summary statistic (e.g., `mean`, `median`, `max`, `min`, `std`, `count`, `sum`)\n",
    "- For example, find the mean values for each station:"
   ]
  },
  {
   "cell_type": "code",
   "execution_count": 14,
   "metadata": {
    "slideshow": {
     "slide_type": "fragment"
    }
   },
   "outputs": [
    {
     "data": {
      "text/html": [
       "<div>\n",
       "<style scoped>\n",
       "    .dataframe tbody tr th:only-of-type {\n",
       "        vertical-align: middle;\n",
       "    }\n",
       "\n",
       "    .dataframe tbody tr th {\n",
       "        vertical-align: top;\n",
       "    }\n",
       "\n",
       "    .dataframe thead th {\n",
       "        text-align: right;\n",
       "    }\n",
       "</style>\n",
       "<table border=\"1\" class=\"dataframe\">\n",
       "  <thead>\n",
       "    <tr style=\"text-align: right;\">\n",
       "      <th></th>\n",
       "      <th>Temp (deg C)</th>\n",
       "      <th>Dew Point Temp (deg C)</th>\n",
       "      <th>Rel Hum (%)</th>\n",
       "      <th>Wind Dir (deg)</th>\n",
       "      <th>Wind Spd (km/h)</th>\n",
       "      <th>Visibility (km)</th>\n",
       "      <th>Pressure (kPa)</th>\n",
       "      <th>Hmdx</th>\n",
       "      <th>Wind Chill</th>\n",
       "    </tr>\n",
       "    <tr>\n",
       "      <th>Station Name</th>\n",
       "      <th></th>\n",
       "      <th></th>\n",
       "      <th></th>\n",
       "      <th></th>\n",
       "      <th></th>\n",
       "      <th></th>\n",
       "      <th></th>\n",
       "      <th></th>\n",
       "      <th></th>\n",
       "    </tr>\n",
       "  </thead>\n",
       "  <tbody>\n",
       "    <tr>\n",
       "      <th>CALGARY</th>\n",
       "      <td>18.054167</td>\n",
       "      <td>4.708333</td>\n",
       "      <td>43.875000</td>\n",
       "      <td>172.083333</td>\n",
       "      <td>10.625000</td>\n",
       "      <td>45.937500</td>\n",
       "      <td>88.990833</td>\n",
       "      <td>25.000000</td>\n",
       "      <td>NaN</td>\n",
       "    </tr>\n",
       "    <tr>\n",
       "      <th>CHARLOTTETOWN</th>\n",
       "      <td>8.637500</td>\n",
       "      <td>0.058333</td>\n",
       "      <td>59.666667</td>\n",
       "      <td>212.916667</td>\n",
       "      <td>12.500000</td>\n",
       "      <td>24.100000</td>\n",
       "      <td>101.363750</td>\n",
       "      <td>NaN</td>\n",
       "      <td>-3.000</td>\n",
       "    </tr>\n",
       "    <tr>\n",
       "      <th>EDMONTON</th>\n",
       "      <td>17.558333</td>\n",
       "      <td>5.037500</td>\n",
       "      <td>48.791667</td>\n",
       "      <td>208.333333</td>\n",
       "      <td>8.083333</td>\n",
       "      <td>24.100000</td>\n",
       "      <td>92.950833</td>\n",
       "      <td>26.000000</td>\n",
       "      <td>NaN</td>\n",
       "    </tr>\n",
       "    <tr>\n",
       "      <th>FREDERICTON</th>\n",
       "      <td>12.373913</td>\n",
       "      <td>0.086957</td>\n",
       "      <td>48.608696</td>\n",
       "      <td>247.222222</td>\n",
       "      <td>14.043478</td>\n",
       "      <td>16.100000</td>\n",
       "      <td>101.679565</td>\n",
       "      <td>NaN</td>\n",
       "      <td>NaN</td>\n",
       "    </tr>\n",
       "    <tr>\n",
       "      <th>HALIFAX</th>\n",
       "      <td>12.237500</td>\n",
       "      <td>-1.416667</td>\n",
       "      <td>40.041667</td>\n",
       "      <td>178.333333</td>\n",
       "      <td>15.500000</td>\n",
       "      <td>24.100000</td>\n",
       "      <td>100.328333</td>\n",
       "      <td>NaN</td>\n",
       "      <td>NaN</td>\n",
       "    </tr>\n",
       "    <tr>\n",
       "      <th>IQALUIT</th>\n",
       "      <td>-5.350000</td>\n",
       "      <td>-8.695833</td>\n",
       "      <td>77.625000</td>\n",
       "      <td>329.583333</td>\n",
       "      <td>29.625000</td>\n",
       "      <td>23.670833</td>\n",
       "      <td>100.540417</td>\n",
       "      <td>NaN</td>\n",
       "      <td>-13.125</td>\n",
       "    </tr>\n",
       "    <tr>\n",
       "      <th>MONTREAL</th>\n",
       "      <td>17.479167</td>\n",
       "      <td>8.550000</td>\n",
       "      <td>56.958333</td>\n",
       "      <td>195.000000</td>\n",
       "      <td>11.791667</td>\n",
       "      <td>29.141667</td>\n",
       "      <td>101.318750</td>\n",
       "      <td>NaN</td>\n",
       "      <td>NaN</td>\n",
       "    </tr>\n",
       "    <tr>\n",
       "      <th>OTTAWA</th>\n",
       "      <td>15.537500</td>\n",
       "      <td>9.516667</td>\n",
       "      <td>68.541667</td>\n",
       "      <td>194.583333</td>\n",
       "      <td>8.500000</td>\n",
       "      <td>23.766667</td>\n",
       "      <td>100.387500</td>\n",
       "      <td>NaN</td>\n",
       "      <td>NaN</td>\n",
       "    </tr>\n",
       "    <tr>\n",
       "      <th>PRINCE GEORGE</th>\n",
       "      <td>14.337500</td>\n",
       "      <td>5.883333</td>\n",
       "      <td>62.291667</td>\n",
       "      <td>141.538462</td>\n",
       "      <td>5.791667</td>\n",
       "      <td>15.900000</td>\n",
       "      <td>93.307083</td>\n",
       "      <td>25.000000</td>\n",
       "      <td>NaN</td>\n",
       "    </tr>\n",
       "    <tr>\n",
       "      <th>QUEBEC</th>\n",
       "      <td>15.366667</td>\n",
       "      <td>3.875000</td>\n",
       "      <td>47.666667</td>\n",
       "      <td>236.666667</td>\n",
       "      <td>13.291667</td>\n",
       "      <td>38.887500</td>\n",
       "      <td>100.810833</td>\n",
       "      <td>25.750000</td>\n",
       "      <td>NaN</td>\n",
       "    </tr>\n",
       "    <tr>\n",
       "      <th>REGINA</th>\n",
       "      <td>21.337500</td>\n",
       "      <td>6.279167</td>\n",
       "      <td>39.958333</td>\n",
       "      <td>221.666667</td>\n",
       "      <td>8.666667</td>\n",
       "      <td>24.100000</td>\n",
       "      <td>94.327500</td>\n",
       "      <td>26.777778</td>\n",
       "      <td>NaN</td>\n",
       "    </tr>\n",
       "    <tr>\n",
       "      <th>SASKATOON</th>\n",
       "      <td>19.308333</td>\n",
       "      <td>6.845833</td>\n",
       "      <td>48.708333</td>\n",
       "      <td>185.833333</td>\n",
       "      <td>12.208333</td>\n",
       "      <td>23.900000</td>\n",
       "      <td>95.211667</td>\n",
       "      <td>26.333333</td>\n",
       "      <td>NaN</td>\n",
       "    </tr>\n",
       "    <tr>\n",
       "      <th>ST. JOHN'S</th>\n",
       "      <td>4.862500</td>\n",
       "      <td>0.850000</td>\n",
       "      <td>75.916667</td>\n",
       "      <td>195.000000</td>\n",
       "      <td>23.625000</td>\n",
       "      <td>24.100000</td>\n",
       "      <td>99.532500</td>\n",
       "      <td>NaN</td>\n",
       "      <td>NaN</td>\n",
       "    </tr>\n",
       "    <tr>\n",
       "      <th>THUNDER BAY</th>\n",
       "      <td>14.625000</td>\n",
       "      <td>2.045833</td>\n",
       "      <td>51.958333</td>\n",
       "      <td>212.500000</td>\n",
       "      <td>11.583333</td>\n",
       "      <td>29.500000</td>\n",
       "      <td>99.130000</td>\n",
       "      <td>25.666667</td>\n",
       "      <td>NaN</td>\n",
       "    </tr>\n",
       "    <tr>\n",
       "      <th>TORONTO</th>\n",
       "      <td>14.833333</td>\n",
       "      <td>9.045833</td>\n",
       "      <td>72.458333</td>\n",
       "      <td>118.333333</td>\n",
       "      <td>6.708333</td>\n",
       "      <td>13.229167</td>\n",
       "      <td>99.551250</td>\n",
       "      <td>NaN</td>\n",
       "      <td>NaN</td>\n",
       "    </tr>\n",
       "    <tr>\n",
       "      <th>VANCOUVER</th>\n",
       "      <td>15.262500</td>\n",
       "      <td>11.016667</td>\n",
       "      <td>76.500000</td>\n",
       "      <td>234.583333</td>\n",
       "      <td>8.125000</td>\n",
       "      <td>44.275000</td>\n",
       "      <td>101.455833</td>\n",
       "      <td>NaN</td>\n",
       "      <td>NaN</td>\n",
       "    </tr>\n",
       "    <tr>\n",
       "      <th>VICTORIA</th>\n",
       "      <td>15.658333</td>\n",
       "      <td>10.408333</td>\n",
       "      <td>72.625000</td>\n",
       "      <td>192.500000</td>\n",
       "      <td>7.541667</td>\n",
       "      <td>42.262500</td>\n",
       "      <td>101.265833</td>\n",
       "      <td>25.000000</td>\n",
       "      <td>NaN</td>\n",
       "    </tr>\n",
       "    <tr>\n",
       "      <th>WHITEHORSE</th>\n",
       "      <td>9.183333</td>\n",
       "      <td>0.533333</td>\n",
       "      <td>57.125000</td>\n",
       "      <td>162.916667</td>\n",
       "      <td>20.333333</td>\n",
       "      <td>57.683333</td>\n",
       "      <td>92.225000</td>\n",
       "      <td>NaN</td>\n",
       "      <td>NaN</td>\n",
       "    </tr>\n",
       "    <tr>\n",
       "      <th>WINNIPEG</th>\n",
       "      <td>20.495833</td>\n",
       "      <td>5.929167</td>\n",
       "      <td>43.208333</td>\n",
       "      <td>187.916667</td>\n",
       "      <td>16.041667</td>\n",
       "      <td>23.033333</td>\n",
       "      <td>98.481250</td>\n",
       "      <td>27.666667</td>\n",
       "      <td>NaN</td>\n",
       "    </tr>\n",
       "    <tr>\n",
       "      <th>YELLOWKNIFE</th>\n",
       "      <td>15.400000</td>\n",
       "      <td>3.008333</td>\n",
       "      <td>45.041667</td>\n",
       "      <td>158.750000</td>\n",
       "      <td>20.041667</td>\n",
       "      <td>24.100000</td>\n",
       "      <td>98.066667</td>\n",
       "      <td>NaN</td>\n",
       "      <td>NaN</td>\n",
       "    </tr>\n",
       "  </tbody>\n",
       "</table>\n",
       "</div>"
      ],
      "text/plain": [
       "               Temp (deg C)  Dew Point Temp (deg C)  Rel Hum (%)  \\\n",
       "Station Name                                                       \n",
       "CALGARY           18.054167                4.708333    43.875000   \n",
       "CHARLOTTETOWN      8.637500                0.058333    59.666667   \n",
       "EDMONTON          17.558333                5.037500    48.791667   \n",
       "FREDERICTON       12.373913                0.086957    48.608696   \n",
       "HALIFAX           12.237500               -1.416667    40.041667   \n",
       "IQALUIT           -5.350000               -8.695833    77.625000   \n",
       "MONTREAL          17.479167                8.550000    56.958333   \n",
       "OTTAWA            15.537500                9.516667    68.541667   \n",
       "PRINCE GEORGE     14.337500                5.883333    62.291667   \n",
       "QUEBEC            15.366667                3.875000    47.666667   \n",
       "REGINA            21.337500                6.279167    39.958333   \n",
       "SASKATOON         19.308333                6.845833    48.708333   \n",
       "ST. JOHN'S         4.862500                0.850000    75.916667   \n",
       "THUNDER BAY       14.625000                2.045833    51.958333   \n",
       "TORONTO           14.833333                9.045833    72.458333   \n",
       "VANCOUVER         15.262500               11.016667    76.500000   \n",
       "VICTORIA          15.658333               10.408333    72.625000   \n",
       "WHITEHORSE         9.183333                0.533333    57.125000   \n",
       "WINNIPEG          20.495833                5.929167    43.208333   \n",
       "YELLOWKNIFE       15.400000                3.008333    45.041667   \n",
       "\n",
       "               Wind Dir (deg)  Wind Spd (km/h)  Visibility (km)  \\\n",
       "Station Name                                                      \n",
       "CALGARY            172.083333        10.625000        45.937500   \n",
       "CHARLOTTETOWN      212.916667        12.500000        24.100000   \n",
       "EDMONTON           208.333333         8.083333        24.100000   \n",
       "FREDERICTON        247.222222        14.043478        16.100000   \n",
       "HALIFAX            178.333333        15.500000        24.100000   \n",
       "IQALUIT            329.583333        29.625000        23.670833   \n",
       "MONTREAL           195.000000        11.791667        29.141667   \n",
       "OTTAWA             194.583333         8.500000        23.766667   \n",
       "PRINCE GEORGE      141.538462         5.791667        15.900000   \n",
       "QUEBEC             236.666667        13.291667        38.887500   \n",
       "REGINA             221.666667         8.666667        24.100000   \n",
       "SASKATOON          185.833333        12.208333        23.900000   \n",
       "ST. JOHN'S         195.000000        23.625000        24.100000   \n",
       "THUNDER BAY        212.500000        11.583333        29.500000   \n",
       "TORONTO            118.333333         6.708333        13.229167   \n",
       "VANCOUVER          234.583333         8.125000        44.275000   \n",
       "VICTORIA           192.500000         7.541667        42.262500   \n",
       "WHITEHORSE         162.916667        20.333333        57.683333   \n",
       "WINNIPEG           187.916667        16.041667        23.033333   \n",
       "YELLOWKNIFE        158.750000        20.041667        24.100000   \n",
       "\n",
       "               Pressure (kPa)       Hmdx  Wind Chill  \n",
       "Station Name                                          \n",
       "CALGARY             88.990833  25.000000         NaN  \n",
       "CHARLOTTETOWN      101.363750        NaN      -3.000  \n",
       "EDMONTON            92.950833  26.000000         NaN  \n",
       "FREDERICTON        101.679565        NaN         NaN  \n",
       "HALIFAX            100.328333        NaN         NaN  \n",
       "IQALUIT            100.540417        NaN     -13.125  \n",
       "MONTREAL           101.318750        NaN         NaN  \n",
       "OTTAWA             100.387500        NaN         NaN  \n",
       "PRINCE GEORGE       93.307083  25.000000         NaN  \n",
       "QUEBEC             100.810833  25.750000         NaN  \n",
       "REGINA              94.327500  26.777778         NaN  \n",
       "SASKATOON           95.211667  26.333333         NaN  \n",
       "ST. JOHN'S          99.532500        NaN         NaN  \n",
       "THUNDER BAY         99.130000  25.666667         NaN  \n",
       "TORONTO             99.551250        NaN         NaN  \n",
       "VANCOUVER          101.455833        NaN         NaN  \n",
       "VICTORIA           101.265833  25.000000         NaN  \n",
       "WHITEHORSE          92.225000        NaN         NaN  \n",
       "WINNIPEG            98.481250  27.666667         NaN  \n",
       "YELLOWKNIFE         98.066667        NaN         NaN  "
      ]
     },
     "execution_count": 14,
     "metadata": {},
     "output_type": "execute_result"
    }
   ],
   "source": [
    "weather_mean = weather_all.groupby('Station Name').mean()\n",
    "weather_mean"
   ]
  },
  {
   "cell_type": "markdown",
   "metadata": {
    "slideshow": {
     "slide_type": "fragment"
    }
   },
   "source": [
    "Note that this DataFrame has station names (i.e. text labels) as its index instead of integer row numbers"
   ]
  },
  {
   "cell_type": "markdown",
   "metadata": {
    "slideshow": {
     "slide_type": "slide"
    }
   },
   "source": [
    "How about the maximum values for each station? Let's display the aggregated data sorted from highest to lowest wind speed:\n",
    "- *Note: The example below uses the `numeric_only=True` keyword argument because `pandas` default is to calculate a \"maximum\" of text data, which is not meaningful here*"
   ]
  },
  {
   "cell_type": "code",
   "execution_count": 15,
   "metadata": {
    "slideshow": {
     "slide_type": "fragment"
    }
   },
   "outputs": [
    {
     "data": {
      "text/html": [
       "<div>\n",
       "<style scoped>\n",
       "    .dataframe tbody tr th:only-of-type {\n",
       "        vertical-align: middle;\n",
       "    }\n",
       "\n",
       "    .dataframe tbody tr th {\n",
       "        vertical-align: top;\n",
       "    }\n",
       "\n",
       "    .dataframe thead th {\n",
       "        text-align: right;\n",
       "    }\n",
       "</style>\n",
       "<table border=\"1\" class=\"dataframe\">\n",
       "  <thead>\n",
       "    <tr style=\"text-align: right;\">\n",
       "      <th></th>\n",
       "      <th>Temp (deg C)</th>\n",
       "      <th>Dew Point Temp (deg C)</th>\n",
       "      <th>Rel Hum (%)</th>\n",
       "      <th>Wind Dir (deg)</th>\n",
       "      <th>Wind Spd (km/h)</th>\n",
       "      <th>Visibility (km)</th>\n",
       "      <th>Pressure (kPa)</th>\n",
       "      <th>Hmdx</th>\n",
       "      <th>Wind Chill</th>\n",
       "    </tr>\n",
       "    <tr>\n",
       "      <th>Station Name</th>\n",
       "      <th></th>\n",
       "      <th></th>\n",
       "      <th></th>\n",
       "      <th></th>\n",
       "      <th></th>\n",
       "      <th></th>\n",
       "      <th></th>\n",
       "      <th></th>\n",
       "      <th></th>\n",
       "    </tr>\n",
       "  </thead>\n",
       "  <tbody>\n",
       "    <tr>\n",
       "      <th>IQALUIT</th>\n",
       "      <td>-2.8</td>\n",
       "      <td>-6.1</td>\n",
       "      <td>84.0</td>\n",
       "      <td>340.0</td>\n",
       "      <td>54.0</td>\n",
       "      <td>48.3</td>\n",
       "      <td>100.73</td>\n",
       "      <td>NaN</td>\n",
       "      <td>-11.0</td>\n",
       "    </tr>\n",
       "    <tr>\n",
       "      <th>WHITEHORSE</th>\n",
       "      <td>13.8</td>\n",
       "      <td>3.8</td>\n",
       "      <td>88.0</td>\n",
       "      <td>200.0</td>\n",
       "      <td>39.0</td>\n",
       "      <td>64.4</td>\n",
       "      <td>92.35</td>\n",
       "      <td>NaN</td>\n",
       "      <td>NaN</td>\n",
       "    </tr>\n",
       "    <tr>\n",
       "      <th>QUEBEC</th>\n",
       "      <td>25.6</td>\n",
       "      <td>9.8</td>\n",
       "      <td>76.0</td>\n",
       "      <td>360.0</td>\n",
       "      <td>39.0</td>\n",
       "      <td>48.3</td>\n",
       "      <td>101.11</td>\n",
       "      <td>26.0</td>\n",
       "      <td>NaN</td>\n",
       "    </tr>\n",
       "    <tr>\n",
       "      <th>FREDERICTON</th>\n",
       "      <td>21.8</td>\n",
       "      <td>2.7</td>\n",
       "      <td>96.0</td>\n",
       "      <td>350.0</td>\n",
       "      <td>35.0</td>\n",
       "      <td>16.1</td>\n",
       "      <td>102.00</td>\n",
       "      <td>NaN</td>\n",
       "      <td>NaN</td>\n",
       "    </tr>\n",
       "    <tr>\n",
       "      <th>ST. JOHN'S</th>\n",
       "      <td>7.8</td>\n",
       "      <td>2.7</td>\n",
       "      <td>92.0</td>\n",
       "      <td>350.0</td>\n",
       "      <td>33.0</td>\n",
       "      <td>24.1</td>\n",
       "      <td>100.18</td>\n",
       "      <td>NaN</td>\n",
       "      <td>NaN</td>\n",
       "    </tr>\n",
       "    <tr>\n",
       "      <th>CHARLOTTETOWN</th>\n",
       "      <td>17.7</td>\n",
       "      <td>3.7</td>\n",
       "      <td>96.0</td>\n",
       "      <td>360.0</td>\n",
       "      <td>32.0</td>\n",
       "      <td>24.1</td>\n",
       "      <td>101.73</td>\n",
       "      <td>NaN</td>\n",
       "      <td>-3.0</td>\n",
       "    </tr>\n",
       "    <tr>\n",
       "      <th>YELLOWKNIFE</th>\n",
       "      <td>23.1</td>\n",
       "      <td>6.2</td>\n",
       "      <td>70.0</td>\n",
       "      <td>200.0</td>\n",
       "      <td>31.0</td>\n",
       "      <td>24.1</td>\n",
       "      <td>98.38</td>\n",
       "      <td>NaN</td>\n",
       "      <td>NaN</td>\n",
       "    </tr>\n",
       "    <tr>\n",
       "      <th>HALIFAX</th>\n",
       "      <td>17.4</td>\n",
       "      <td>6.2</td>\n",
       "      <td>64.0</td>\n",
       "      <td>360.0</td>\n",
       "      <td>31.0</td>\n",
       "      <td>24.1</td>\n",
       "      <td>100.60</td>\n",
       "      <td>NaN</td>\n",
       "      <td>NaN</td>\n",
       "    </tr>\n",
       "    <tr>\n",
       "      <th>THUNDER BAY</th>\n",
       "      <td>28.2</td>\n",
       "      <td>6.1</td>\n",
       "      <td>93.0</td>\n",
       "      <td>350.0</td>\n",
       "      <td>28.0</td>\n",
       "      <td>32.2</td>\n",
       "      <td>99.26</td>\n",
       "      <td>27.0</td>\n",
       "      <td>NaN</td>\n",
       "    </tr>\n",
       "    <tr>\n",
       "      <th>WINNIPEG</th>\n",
       "      <td>28.5</td>\n",
       "      <td>13.2</td>\n",
       "      <td>80.0</td>\n",
       "      <td>210.0</td>\n",
       "      <td>27.0</td>\n",
       "      <td>24.1</td>\n",
       "      <td>98.59</td>\n",
       "      <td>29.0</td>\n",
       "      <td>NaN</td>\n",
       "    </tr>\n",
       "    <tr>\n",
       "      <th>SASKATOON</th>\n",
       "      <td>28.6</td>\n",
       "      <td>10.6</td>\n",
       "      <td>79.0</td>\n",
       "      <td>360.0</td>\n",
       "      <td>26.0</td>\n",
       "      <td>24.1</td>\n",
       "      <td>95.51</td>\n",
       "      <td>28.0</td>\n",
       "      <td>NaN</td>\n",
       "    </tr>\n",
       "    <tr>\n",
       "      <th>MONTREAL</th>\n",
       "      <td>22.4</td>\n",
       "      <td>13.4</td>\n",
       "      <td>82.0</td>\n",
       "      <td>300.0</td>\n",
       "      <td>25.0</td>\n",
       "      <td>48.3</td>\n",
       "      <td>101.55</td>\n",
       "      <td>NaN</td>\n",
       "      <td>NaN</td>\n",
       "    </tr>\n",
       "    <tr>\n",
       "      <th>CALGARY</th>\n",
       "      <td>25.5</td>\n",
       "      <td>6.1</td>\n",
       "      <td>71.0</td>\n",
       "      <td>350.0</td>\n",
       "      <td>21.0</td>\n",
       "      <td>64.4</td>\n",
       "      <td>89.17</td>\n",
       "      <td>25.0</td>\n",
       "      <td>NaN</td>\n",
       "    </tr>\n",
       "    <tr>\n",
       "      <th>REGINA</th>\n",
       "      <td>28.6</td>\n",
       "      <td>8.8</td>\n",
       "      <td>75.0</td>\n",
       "      <td>360.0</td>\n",
       "      <td>21.0</td>\n",
       "      <td>24.1</td>\n",
       "      <td>94.50</td>\n",
       "      <td>28.0</td>\n",
       "      <td>NaN</td>\n",
       "    </tr>\n",
       "    <tr>\n",
       "      <th>EDMONTON</th>\n",
       "      <td>27.3</td>\n",
       "      <td>7.8</td>\n",
       "      <td>85.0</td>\n",
       "      <td>360.0</td>\n",
       "      <td>19.0</td>\n",
       "      <td>24.1</td>\n",
       "      <td>93.13</td>\n",
       "      <td>26.0</td>\n",
       "      <td>NaN</td>\n",
       "    </tr>\n",
       "    <tr>\n",
       "      <th>PRINCE GEORGE</th>\n",
       "      <td>25.9</td>\n",
       "      <td>8.7</td>\n",
       "      <td>96.0</td>\n",
       "      <td>250.0</td>\n",
       "      <td>18.0</td>\n",
       "      <td>16.1</td>\n",
       "      <td>93.44</td>\n",
       "      <td>25.0</td>\n",
       "      <td>NaN</td>\n",
       "    </tr>\n",
       "    <tr>\n",
       "      <th>VANCOUVER</th>\n",
       "      <td>19.5</td>\n",
       "      <td>13.4</td>\n",
       "      <td>97.0</td>\n",
       "      <td>360.0</td>\n",
       "      <td>15.0</td>\n",
       "      <td>48.3</td>\n",
       "      <td>101.61</td>\n",
       "      <td>NaN</td>\n",
       "      <td>NaN</td>\n",
       "    </tr>\n",
       "    <tr>\n",
       "      <th>VICTORIA</th>\n",
       "      <td>22.6</td>\n",
       "      <td>12.5</td>\n",
       "      <td>94.0</td>\n",
       "      <td>360.0</td>\n",
       "      <td>15.0</td>\n",
       "      <td>48.3</td>\n",
       "      <td>101.44</td>\n",
       "      <td>25.0</td>\n",
       "      <td>NaN</td>\n",
       "    </tr>\n",
       "    <tr>\n",
       "      <th>OTTAWA</th>\n",
       "      <td>22.1</td>\n",
       "      <td>13.6</td>\n",
       "      <td>94.0</td>\n",
       "      <td>360.0</td>\n",
       "      <td>14.0</td>\n",
       "      <td>24.1</td>\n",
       "      <td>100.65</td>\n",
       "      <td>NaN</td>\n",
       "      <td>NaN</td>\n",
       "    </tr>\n",
       "    <tr>\n",
       "      <th>TORONTO</th>\n",
       "      <td>20.1</td>\n",
       "      <td>14.6</td>\n",
       "      <td>94.0</td>\n",
       "      <td>360.0</td>\n",
       "      <td>13.0</td>\n",
       "      <td>24.1</td>\n",
       "      <td>99.98</td>\n",
       "      <td>NaN</td>\n",
       "      <td>NaN</td>\n",
       "    </tr>\n",
       "  </tbody>\n",
       "</table>\n",
       "</div>"
      ],
      "text/plain": [
       "               Temp (deg C)  Dew Point Temp (deg C)  Rel Hum (%)  \\\n",
       "Station Name                                                       \n",
       "IQALUIT                -2.8                    -6.1         84.0   \n",
       "WHITEHORSE             13.8                     3.8         88.0   \n",
       "QUEBEC                 25.6                     9.8         76.0   \n",
       "FREDERICTON            21.8                     2.7         96.0   \n",
       "ST. JOHN'S              7.8                     2.7         92.0   \n",
       "CHARLOTTETOWN          17.7                     3.7         96.0   \n",
       "YELLOWKNIFE            23.1                     6.2         70.0   \n",
       "HALIFAX                17.4                     6.2         64.0   \n",
       "THUNDER BAY            28.2                     6.1         93.0   \n",
       "WINNIPEG               28.5                    13.2         80.0   \n",
       "SASKATOON              28.6                    10.6         79.0   \n",
       "MONTREAL               22.4                    13.4         82.0   \n",
       "CALGARY                25.5                     6.1         71.0   \n",
       "REGINA                 28.6                     8.8         75.0   \n",
       "EDMONTON               27.3                     7.8         85.0   \n",
       "PRINCE GEORGE          25.9                     8.7         96.0   \n",
       "VANCOUVER              19.5                    13.4         97.0   \n",
       "VICTORIA               22.6                    12.5         94.0   \n",
       "OTTAWA                 22.1                    13.6         94.0   \n",
       "TORONTO                20.1                    14.6         94.0   \n",
       "\n",
       "               Wind Dir (deg)  Wind Spd (km/h)  Visibility (km)  \\\n",
       "Station Name                                                      \n",
       "IQALUIT                 340.0             54.0             48.3   \n",
       "WHITEHORSE              200.0             39.0             64.4   \n",
       "QUEBEC                  360.0             39.0             48.3   \n",
       "FREDERICTON             350.0             35.0             16.1   \n",
       "ST. JOHN'S              350.0             33.0             24.1   \n",
       "CHARLOTTETOWN           360.0             32.0             24.1   \n",
       "YELLOWKNIFE             200.0             31.0             24.1   \n",
       "HALIFAX                 360.0             31.0             24.1   \n",
       "THUNDER BAY             350.0             28.0             32.2   \n",
       "WINNIPEG                210.0             27.0             24.1   \n",
       "SASKATOON               360.0             26.0             24.1   \n",
       "MONTREAL                300.0             25.0             48.3   \n",
       "CALGARY                 350.0             21.0             64.4   \n",
       "REGINA                  360.0             21.0             24.1   \n",
       "EDMONTON                360.0             19.0             24.1   \n",
       "PRINCE GEORGE           250.0             18.0             16.1   \n",
       "VANCOUVER               360.0             15.0             48.3   \n",
       "VICTORIA                360.0             15.0             48.3   \n",
       "OTTAWA                  360.0             14.0             24.1   \n",
       "TORONTO                 360.0             13.0             24.1   \n",
       "\n",
       "               Pressure (kPa)  Hmdx  Wind Chill  \n",
       "Station Name                                     \n",
       "IQALUIT                100.73   NaN       -11.0  \n",
       "WHITEHORSE              92.35   NaN         NaN  \n",
       "QUEBEC                 101.11  26.0         NaN  \n",
       "FREDERICTON            102.00   NaN         NaN  \n",
       "ST. JOHN'S             100.18   NaN         NaN  \n",
       "CHARLOTTETOWN          101.73   NaN        -3.0  \n",
       "YELLOWKNIFE             98.38   NaN         NaN  \n",
       "HALIFAX                100.60   NaN         NaN  \n",
       "THUNDER BAY             99.26  27.0         NaN  \n",
       "WINNIPEG                98.59  29.0         NaN  \n",
       "SASKATOON               95.51  28.0         NaN  \n",
       "MONTREAL               101.55   NaN         NaN  \n",
       "CALGARY                 89.17  25.0         NaN  \n",
       "REGINA                  94.50  28.0         NaN  \n",
       "EDMONTON                93.13  26.0         NaN  \n",
       "PRINCE GEORGE           93.44  25.0         NaN  \n",
       "VANCOUVER              101.61   NaN         NaN  \n",
       "VICTORIA               101.44  25.0         NaN  \n",
       "OTTAWA                 100.65   NaN         NaN  \n",
       "TORONTO                 99.98   NaN         NaN  "
      ]
     },
     "execution_count": 15,
     "metadata": {},
     "output_type": "execute_result"
    }
   ],
   "source": [
    "weather_max = weather_all.groupby('Station Name').max(numeric_only=True)\n",
    "weather_max.sort_values('Wind Spd (km/h)', ascending=False)"
   ]
  },
  {
   "cell_type": "markdown",
   "metadata": {
    "slideshow": {
     "slide_type": "skip"
    }
   },
   "source": [
    "---"
   ]
  },
  {
   "cell_type": "markdown",
   "metadata": {
    "slideshow": {
     "slide_type": "slide"
    }
   },
   "source": [
    "# Interlude: Fancier Aggregation\n",
    "\n",
    "We can use the `agg` method to compute multiple aggregated statistics on our data:"
   ]
  },
  {
   "cell_type": "code",
   "execution_count": 16,
   "metadata": {
    "slideshow": {
     "slide_type": "fragment"
    }
   },
   "outputs": [
    {
     "data": {
      "text/html": [
       "<div>\n",
       "<style scoped>\n",
       "    .dataframe tbody tr th:only-of-type {\n",
       "        vertical-align: middle;\n",
       "    }\n",
       "\n",
       "    .dataframe tbody tr th {\n",
       "        vertical-align: top;\n",
       "    }\n",
       "\n",
       "    .dataframe thead tr th {\n",
       "        text-align: left;\n",
       "    }\n",
       "\n",
       "    .dataframe thead tr:last-of-type th {\n",
       "        text-align: right;\n",
       "    }\n",
       "</style>\n",
       "<table border=\"1\" class=\"dataframe\">\n",
       "  <thead>\n",
       "    <tr>\n",
       "      <th></th>\n",
       "      <th colspan=\"2\" halign=\"left\">Temp (deg C)</th>\n",
       "      <th colspan=\"2\" halign=\"left\">Dew Point Temp (deg C)</th>\n",
       "      <th colspan=\"2\" halign=\"left\">Rel Hum (%)</th>\n",
       "      <th colspan=\"2\" halign=\"left\">Wind Dir (deg)</th>\n",
       "      <th colspan=\"2\" halign=\"left\">Wind Spd (km/h)</th>\n",
       "      <th colspan=\"2\" halign=\"left\">Visibility (km)</th>\n",
       "      <th colspan=\"2\" halign=\"left\">Pressure (kPa)</th>\n",
       "      <th colspan=\"2\" halign=\"left\">Hmdx</th>\n",
       "      <th colspan=\"2\" halign=\"left\">Wind Chill</th>\n",
       "    </tr>\n",
       "    <tr>\n",
       "      <th></th>\n",
       "      <th>mean</th>\n",
       "      <th>std</th>\n",
       "      <th>mean</th>\n",
       "      <th>std</th>\n",
       "      <th>mean</th>\n",
       "      <th>std</th>\n",
       "      <th>mean</th>\n",
       "      <th>std</th>\n",
       "      <th>mean</th>\n",
       "      <th>std</th>\n",
       "      <th>mean</th>\n",
       "      <th>std</th>\n",
       "      <th>mean</th>\n",
       "      <th>std</th>\n",
       "      <th>mean</th>\n",
       "      <th>std</th>\n",
       "      <th>mean</th>\n",
       "      <th>std</th>\n",
       "    </tr>\n",
       "    <tr>\n",
       "      <th>Station Name</th>\n",
       "      <th></th>\n",
       "      <th></th>\n",
       "      <th></th>\n",
       "      <th></th>\n",
       "      <th></th>\n",
       "      <th></th>\n",
       "      <th></th>\n",
       "      <th></th>\n",
       "      <th></th>\n",
       "      <th></th>\n",
       "      <th></th>\n",
       "      <th></th>\n",
       "      <th></th>\n",
       "      <th></th>\n",
       "      <th></th>\n",
       "      <th></th>\n",
       "      <th></th>\n",
       "      <th></th>\n",
       "    </tr>\n",
       "  </thead>\n",
       "  <tbody>\n",
       "    <tr>\n",
       "      <th>CALGARY</th>\n",
       "      <td>18.054167</td>\n",
       "      <td>5.194979</td>\n",
       "      <td>4.708333</td>\n",
       "      <td>0.971291</td>\n",
       "      <td>43.875000</td>\n",
       "      <td>15.671388</td>\n",
       "      <td>172.083333</td>\n",
       "      <td>102.447406</td>\n",
       "      <td>10.625000</td>\n",
       "      <td>5.131425</td>\n",
       "      <td>45.937500</td>\n",
       "      <td>15.852577</td>\n",
       "      <td>88.990833</td>\n",
       "      <td>0.135548</td>\n",
       "      <td>25.000000</td>\n",
       "      <td>NaN</td>\n",
       "      <td>NaN</td>\n",
       "      <td>NaN</td>\n",
       "    </tr>\n",
       "    <tr>\n",
       "      <th>CHARLOTTETOWN</th>\n",
       "      <td>8.637500</td>\n",
       "      <td>6.042373</td>\n",
       "      <td>0.058333</td>\n",
       "      <td>1.727506</td>\n",
       "      <td>59.666667</td>\n",
       "      <td>23.466288</td>\n",
       "      <td>212.916667</td>\n",
       "      <td>89.757120</td>\n",
       "      <td>12.500000</td>\n",
       "      <td>9.623341</td>\n",
       "      <td>24.100000</td>\n",
       "      <td>0.000000</td>\n",
       "      <td>101.363750</td>\n",
       "      <td>0.252101</td>\n",
       "      <td>NaN</td>\n",
       "      <td>NaN</td>\n",
       "      <td>-3.000</td>\n",
       "      <td>NaN</td>\n",
       "    </tr>\n",
       "    <tr>\n",
       "      <th>EDMONTON</th>\n",
       "      <td>17.558333</td>\n",
       "      <td>7.724434</td>\n",
       "      <td>5.037500</td>\n",
       "      <td>1.459545</td>\n",
       "      <td>48.791667</td>\n",
       "      <td>22.675363</td>\n",
       "      <td>208.333333</td>\n",
       "      <td>110.125094</td>\n",
       "      <td>8.083333</td>\n",
       "      <td>4.577038</td>\n",
       "      <td>24.100000</td>\n",
       "      <td>0.000000</td>\n",
       "      <td>92.950833</td>\n",
       "      <td>0.152170</td>\n",
       "      <td>26.000000</td>\n",
       "      <td>0.000000</td>\n",
       "      <td>NaN</td>\n",
       "      <td>NaN</td>\n",
       "    </tr>\n",
       "    <tr>\n",
       "      <th>FREDERICTON</th>\n",
       "      <td>12.373913</td>\n",
       "      <td>7.327856</td>\n",
       "      <td>0.086957</td>\n",
       "      <td>2.187839</td>\n",
       "      <td>48.608696</td>\n",
       "      <td>24.882888</td>\n",
       "      <td>247.222222</td>\n",
       "      <td>64.789756</td>\n",
       "      <td>14.043478</td>\n",
       "      <td>11.343714</td>\n",
       "      <td>16.100000</td>\n",
       "      <td>0.000000</td>\n",
       "      <td>101.679565</td>\n",
       "      <td>0.250662</td>\n",
       "      <td>NaN</td>\n",
       "      <td>NaN</td>\n",
       "      <td>NaN</td>\n",
       "      <td>NaN</td>\n",
       "    </tr>\n",
       "    <tr>\n",
       "      <th>HALIFAX</th>\n",
       "      <td>12.237500</td>\n",
       "      <td>3.411338</td>\n",
       "      <td>-1.416667</td>\n",
       "      <td>3.164706</td>\n",
       "      <td>40.041667</td>\n",
       "      <td>10.868699</td>\n",
       "      <td>178.333333</td>\n",
       "      <td>94.024357</td>\n",
       "      <td>15.500000</td>\n",
       "      <td>9.108047</td>\n",
       "      <td>24.100000</td>\n",
       "      <td>0.000000</td>\n",
       "      <td>100.328333</td>\n",
       "      <td>0.227571</td>\n",
       "      <td>NaN</td>\n",
       "      <td>NaN</td>\n",
       "      <td>NaN</td>\n",
       "      <td>NaN</td>\n",
       "    </tr>\n",
       "    <tr>\n",
       "      <th>IQALUIT</th>\n",
       "      <td>-5.350000</td>\n",
       "      <td>1.394399</td>\n",
       "      <td>-8.695833</td>\n",
       "      <td>1.646730</td>\n",
       "      <td>77.625000</td>\n",
       "      <td>4.147419</td>\n",
       "      <td>329.583333</td>\n",
       "      <td>6.902531</td>\n",
       "      <td>29.625000</td>\n",
       "      <td>11.988446</td>\n",
       "      <td>23.670833</td>\n",
       "      <td>12.404609</td>\n",
       "      <td>100.540417</td>\n",
       "      <td>0.144056</td>\n",
       "      <td>NaN</td>\n",
       "      <td>NaN</td>\n",
       "      <td>-13.125</td>\n",
       "      <td>1.2619</td>\n",
       "    </tr>\n",
       "    <tr>\n",
       "      <th>MONTREAL</th>\n",
       "      <td>17.479167</td>\n",
       "      <td>2.839776</td>\n",
       "      <td>8.550000</td>\n",
       "      <td>2.950755</td>\n",
       "      <td>56.958333</td>\n",
       "      <td>13.505165</td>\n",
       "      <td>195.000000</td>\n",
       "      <td>65.208695</td>\n",
       "      <td>11.791667</td>\n",
       "      <td>5.785884</td>\n",
       "      <td>29.141667</td>\n",
       "      <td>10.039397</td>\n",
       "      <td>101.318750</td>\n",
       "      <td>0.220756</td>\n",
       "      <td>NaN</td>\n",
       "      <td>NaN</td>\n",
       "      <td>NaN</td>\n",
       "      <td>NaN</td>\n",
       "    </tr>\n",
       "    <tr>\n",
       "      <th>OTTAWA</th>\n",
       "      <td>15.537500</td>\n",
       "      <td>2.425734</td>\n",
       "      <td>9.516667</td>\n",
       "      <td>2.363981</td>\n",
       "      <td>68.541667</td>\n",
       "      <td>13.765044</td>\n",
       "      <td>194.583333</td>\n",
       "      <td>82.196962</td>\n",
       "      <td>8.500000</td>\n",
       "      <td>3.489114</td>\n",
       "      <td>23.766667</td>\n",
       "      <td>1.632993</td>\n",
       "      <td>100.387500</td>\n",
       "      <td>0.240945</td>\n",
       "      <td>NaN</td>\n",
       "      <td>NaN</td>\n",
       "      <td>NaN</td>\n",
       "      <td>NaN</td>\n",
       "    </tr>\n",
       "    <tr>\n",
       "      <th>PRINCE GEORGE</th>\n",
       "      <td>14.337500</td>\n",
       "      <td>7.250176</td>\n",
       "      <td>5.883333</td>\n",
       "      <td>1.717345</td>\n",
       "      <td>62.291667</td>\n",
       "      <td>24.333693</td>\n",
       "      <td>141.538462</td>\n",
       "      <td>83.050803</td>\n",
       "      <td>5.791667</td>\n",
       "      <td>5.056027</td>\n",
       "      <td>15.900000</td>\n",
       "      <td>0.979796</td>\n",
       "      <td>93.307083</td>\n",
       "      <td>0.103818</td>\n",
       "      <td>25.000000</td>\n",
       "      <td>0.000000</td>\n",
       "      <td>NaN</td>\n",
       "      <td>NaN</td>\n",
       "    </tr>\n",
       "    <tr>\n",
       "      <th>QUEBEC</th>\n",
       "      <td>15.366667</td>\n",
       "      <td>6.864950</td>\n",
       "      <td>3.875000</td>\n",
       "      <td>4.033690</td>\n",
       "      <td>47.666667</td>\n",
       "      <td>12.288795</td>\n",
       "      <td>236.666667</td>\n",
       "      <td>112.584912</td>\n",
       "      <td>13.291667</td>\n",
       "      <td>10.691236</td>\n",
       "      <td>38.887500</td>\n",
       "      <td>11.323823</td>\n",
       "      <td>100.810833</td>\n",
       "      <td>0.309163</td>\n",
       "      <td>25.750000</td>\n",
       "      <td>0.500000</td>\n",
       "      <td>NaN</td>\n",
       "      <td>NaN</td>\n",
       "    </tr>\n",
       "    <tr>\n",
       "      <th>REGINA</th>\n",
       "      <td>21.337500</td>\n",
       "      <td>5.807103</td>\n",
       "      <td>6.279167</td>\n",
       "      <td>1.204693</td>\n",
       "      <td>39.958333</td>\n",
       "      <td>15.121189</td>\n",
       "      <td>221.666667</td>\n",
       "      <td>114.802919</td>\n",
       "      <td>8.666667</td>\n",
       "      <td>4.957793</td>\n",
       "      <td>24.100000</td>\n",
       "      <td>0.000000</td>\n",
       "      <td>94.327500</td>\n",
       "      <td>0.144471</td>\n",
       "      <td>26.777778</td>\n",
       "      <td>0.971825</td>\n",
       "      <td>NaN</td>\n",
       "      <td>NaN</td>\n",
       "    </tr>\n",
       "    <tr>\n",
       "      <th>SASKATOON</th>\n",
       "      <td>19.308333</td>\n",
       "      <td>5.844873</td>\n",
       "      <td>6.845833</td>\n",
       "      <td>2.110219</td>\n",
       "      <td>48.708333</td>\n",
       "      <td>20.756307</td>\n",
       "      <td>185.833333</td>\n",
       "      <td>134.193782</td>\n",
       "      <td>12.208333</td>\n",
       "      <td>5.656694</td>\n",
       "      <td>23.900000</td>\n",
       "      <td>0.979796</td>\n",
       "      <td>95.211667</td>\n",
       "      <td>0.244018</td>\n",
       "      <td>26.333333</td>\n",
       "      <td>1.366260</td>\n",
       "      <td>NaN</td>\n",
       "      <td>NaN</td>\n",
       "    </tr>\n",
       "    <tr>\n",
       "      <th>ST. JOHN'S</th>\n",
       "      <td>4.862500</td>\n",
       "      <td>1.230345</td>\n",
       "      <td>0.850000</td>\n",
       "      <td>1.458409</td>\n",
       "      <td>75.916667</td>\n",
       "      <td>10.442042</td>\n",
       "      <td>195.000000</td>\n",
       "      <td>102.914063</td>\n",
       "      <td>23.625000</td>\n",
       "      <td>8.282052</td>\n",
       "      <td>24.100000</td>\n",
       "      <td>0.000000</td>\n",
       "      <td>99.532500</td>\n",
       "      <td>0.497841</td>\n",
       "      <td>NaN</td>\n",
       "      <td>NaN</td>\n",
       "      <td>NaN</td>\n",
       "      <td>NaN</td>\n",
       "    </tr>\n",
       "    <tr>\n",
       "      <th>THUNDER BAY</th>\n",
       "      <td>14.625000</td>\n",
       "      <td>10.271203</td>\n",
       "      <td>2.045833</td>\n",
       "      <td>1.610557</td>\n",
       "      <td>51.958333</td>\n",
       "      <td>28.881285</td>\n",
       "      <td>212.500000</td>\n",
       "      <td>94.604440</td>\n",
       "      <td>11.583333</td>\n",
       "      <td>7.546474</td>\n",
       "      <td>29.500000</td>\n",
       "      <td>3.900502</td>\n",
       "      <td>99.130000</td>\n",
       "      <td>0.091652</td>\n",
       "      <td>25.666667</td>\n",
       "      <td>0.816497</td>\n",
       "      <td>NaN</td>\n",
       "      <td>NaN</td>\n",
       "    </tr>\n",
       "    <tr>\n",
       "      <th>TORONTO</th>\n",
       "      <td>14.833333</td>\n",
       "      <td>2.610958</td>\n",
       "      <td>9.045833</td>\n",
       "      <td>4.597918</td>\n",
       "      <td>72.458333</td>\n",
       "      <td>23.843656</td>\n",
       "      <td>118.333333</td>\n",
       "      <td>95.583638</td>\n",
       "      <td>6.708333</td>\n",
       "      <td>3.250139</td>\n",
       "      <td>13.229167</td>\n",
       "      <td>8.851749</td>\n",
       "      <td>99.551250</td>\n",
       "      <td>0.247234</td>\n",
       "      <td>NaN</td>\n",
       "      <td>NaN</td>\n",
       "      <td>NaN</td>\n",
       "      <td>NaN</td>\n",
       "    </tr>\n",
       "    <tr>\n",
       "      <th>VANCOUVER</th>\n",
       "      <td>15.262500</td>\n",
       "      <td>2.842199</td>\n",
       "      <td>11.016667</td>\n",
       "      <td>1.202775</td>\n",
       "      <td>76.500000</td>\n",
       "      <td>10.966352</td>\n",
       "      <td>234.583333</td>\n",
       "      <td>101.979502</td>\n",
       "      <td>8.125000</td>\n",
       "      <td>4.533091</td>\n",
       "      <td>44.275000</td>\n",
       "      <td>7.121446</td>\n",
       "      <td>101.455833</td>\n",
       "      <td>0.123673</td>\n",
       "      <td>NaN</td>\n",
       "      <td>NaN</td>\n",
       "      <td>NaN</td>\n",
       "      <td>NaN</td>\n",
       "    </tr>\n",
       "    <tr>\n",
       "      <th>VICTORIA</th>\n",
       "      <td>15.658333</td>\n",
       "      <td>4.202268</td>\n",
       "      <td>10.408333</td>\n",
       "      <td>1.030794</td>\n",
       "      <td>72.625000</td>\n",
       "      <td>16.021216</td>\n",
       "      <td>192.500000</td>\n",
       "      <td>95.973275</td>\n",
       "      <td>7.541667</td>\n",
       "      <td>3.889553</td>\n",
       "      <td>42.262500</td>\n",
       "      <td>7.962019</td>\n",
       "      <td>101.265833</td>\n",
       "      <td>0.123778</td>\n",
       "      <td>25.000000</td>\n",
       "      <td>NaN</td>\n",
       "      <td>NaN</td>\n",
       "      <td>NaN</td>\n",
       "    </tr>\n",
       "    <tr>\n",
       "      <th>WHITEHORSE</th>\n",
       "      <td>9.183333</td>\n",
       "      <td>3.133225</td>\n",
       "      <td>0.533333</td>\n",
       "      <td>1.946159</td>\n",
       "      <td>57.125000</td>\n",
       "      <td>17.121846</td>\n",
       "      <td>162.916667</td>\n",
       "      <td>18.528278</td>\n",
       "      <td>20.333333</td>\n",
       "      <td>8.111541</td>\n",
       "      <td>57.683333</td>\n",
       "      <td>15.341948</td>\n",
       "      <td>92.225000</td>\n",
       "      <td>0.103588</td>\n",
       "      <td>NaN</td>\n",
       "      <td>NaN</td>\n",
       "      <td>NaN</td>\n",
       "      <td>NaN</td>\n",
       "    </tr>\n",
       "    <tr>\n",
       "      <th>WINNIPEG</th>\n",
       "      <td>20.495833</td>\n",
       "      <td>5.947047</td>\n",
       "      <td>5.929167</td>\n",
       "      <td>5.400280</td>\n",
       "      <td>43.208333</td>\n",
       "      <td>21.198809</td>\n",
       "      <td>187.916667</td>\n",
       "      <td>13.824731</td>\n",
       "      <td>16.041667</td>\n",
       "      <td>3.581100</td>\n",
       "      <td>23.033333</td>\n",
       "      <td>2.526153</td>\n",
       "      <td>98.481250</td>\n",
       "      <td>0.067586</td>\n",
       "      <td>27.666667</td>\n",
       "      <td>1.224745</td>\n",
       "      <td>NaN</td>\n",
       "      <td>NaN</td>\n",
       "    </tr>\n",
       "    <tr>\n",
       "      <th>YELLOWKNIFE</th>\n",
       "      <td>15.400000</td>\n",
       "      <td>4.589497</td>\n",
       "      <td>3.008333</td>\n",
       "      <td>1.848364</td>\n",
       "      <td>45.041667</td>\n",
       "      <td>13.016642</td>\n",
       "      <td>158.750000</td>\n",
       "      <td>24.013130</td>\n",
       "      <td>20.041667</td>\n",
       "      <td>6.423321</td>\n",
       "      <td>24.100000</td>\n",
       "      <td>0.000000</td>\n",
       "      <td>98.066667</td>\n",
       "      <td>0.137071</td>\n",
       "      <td>NaN</td>\n",
       "      <td>NaN</td>\n",
       "      <td>NaN</td>\n",
       "      <td>NaN</td>\n",
       "    </tr>\n",
       "  </tbody>\n",
       "</table>\n",
       "</div>"
      ],
      "text/plain": [
       "              Temp (deg C)            Dew Point Temp (deg C)            \\\n",
       "                      mean        std                   mean       std   \n",
       "Station Name                                                             \n",
       "CALGARY          18.054167   5.194979               4.708333  0.971291   \n",
       "CHARLOTTETOWN     8.637500   6.042373               0.058333  1.727506   \n",
       "EDMONTON         17.558333   7.724434               5.037500  1.459545   \n",
       "FREDERICTON      12.373913   7.327856               0.086957  2.187839   \n",
       "HALIFAX          12.237500   3.411338              -1.416667  3.164706   \n",
       "IQALUIT          -5.350000   1.394399              -8.695833  1.646730   \n",
       "MONTREAL         17.479167   2.839776               8.550000  2.950755   \n",
       "OTTAWA           15.537500   2.425734               9.516667  2.363981   \n",
       "PRINCE GEORGE    14.337500   7.250176               5.883333  1.717345   \n",
       "QUEBEC           15.366667   6.864950               3.875000  4.033690   \n",
       "REGINA           21.337500   5.807103               6.279167  1.204693   \n",
       "SASKATOON        19.308333   5.844873               6.845833  2.110219   \n",
       "ST. JOHN'S        4.862500   1.230345               0.850000  1.458409   \n",
       "THUNDER BAY      14.625000  10.271203               2.045833  1.610557   \n",
       "TORONTO          14.833333   2.610958               9.045833  4.597918   \n",
       "VANCOUVER        15.262500   2.842199              11.016667  1.202775   \n",
       "VICTORIA         15.658333   4.202268              10.408333  1.030794   \n",
       "WHITEHORSE        9.183333   3.133225               0.533333  1.946159   \n",
       "WINNIPEG         20.495833   5.947047               5.929167  5.400280   \n",
       "YELLOWKNIFE      15.400000   4.589497               3.008333  1.848364   \n",
       "\n",
       "              Rel Hum (%)            Wind Dir (deg)              \\\n",
       "                     mean        std           mean         std   \n",
       "Station Name                                                      \n",
       "CALGARY         43.875000  15.671388     172.083333  102.447406   \n",
       "CHARLOTTETOWN   59.666667  23.466288     212.916667   89.757120   \n",
       "EDMONTON        48.791667  22.675363     208.333333  110.125094   \n",
       "FREDERICTON     48.608696  24.882888     247.222222   64.789756   \n",
       "HALIFAX         40.041667  10.868699     178.333333   94.024357   \n",
       "IQALUIT         77.625000   4.147419     329.583333    6.902531   \n",
       "MONTREAL        56.958333  13.505165     195.000000   65.208695   \n",
       "OTTAWA          68.541667  13.765044     194.583333   82.196962   \n",
       "PRINCE GEORGE   62.291667  24.333693     141.538462   83.050803   \n",
       "QUEBEC          47.666667  12.288795     236.666667  112.584912   \n",
       "REGINA          39.958333  15.121189     221.666667  114.802919   \n",
       "SASKATOON       48.708333  20.756307     185.833333  134.193782   \n",
       "ST. JOHN'S      75.916667  10.442042     195.000000  102.914063   \n",
       "THUNDER BAY     51.958333  28.881285     212.500000   94.604440   \n",
       "TORONTO         72.458333  23.843656     118.333333   95.583638   \n",
       "VANCOUVER       76.500000  10.966352     234.583333  101.979502   \n",
       "VICTORIA        72.625000  16.021216     192.500000   95.973275   \n",
       "WHITEHORSE      57.125000  17.121846     162.916667   18.528278   \n",
       "WINNIPEG        43.208333  21.198809     187.916667   13.824731   \n",
       "YELLOWKNIFE     45.041667  13.016642     158.750000   24.013130   \n",
       "\n",
       "              Wind Spd (km/h)            Visibility (km)             \\\n",
       "                         mean        std            mean        std   \n",
       "Station Name                                                          \n",
       "CALGARY             10.625000   5.131425       45.937500  15.852577   \n",
       "CHARLOTTETOWN       12.500000   9.623341       24.100000   0.000000   \n",
       "EDMONTON             8.083333   4.577038       24.100000   0.000000   \n",
       "FREDERICTON         14.043478  11.343714       16.100000   0.000000   \n",
       "HALIFAX             15.500000   9.108047       24.100000   0.000000   \n",
       "IQALUIT             29.625000  11.988446       23.670833  12.404609   \n",
       "MONTREAL            11.791667   5.785884       29.141667  10.039397   \n",
       "OTTAWA               8.500000   3.489114       23.766667   1.632993   \n",
       "PRINCE GEORGE        5.791667   5.056027       15.900000   0.979796   \n",
       "QUEBEC              13.291667  10.691236       38.887500  11.323823   \n",
       "REGINA               8.666667   4.957793       24.100000   0.000000   \n",
       "SASKATOON           12.208333   5.656694       23.900000   0.979796   \n",
       "ST. JOHN'S          23.625000   8.282052       24.100000   0.000000   \n",
       "THUNDER BAY         11.583333   7.546474       29.500000   3.900502   \n",
       "TORONTO              6.708333   3.250139       13.229167   8.851749   \n",
       "VANCOUVER            8.125000   4.533091       44.275000   7.121446   \n",
       "VICTORIA             7.541667   3.889553       42.262500   7.962019   \n",
       "WHITEHORSE          20.333333   8.111541       57.683333  15.341948   \n",
       "WINNIPEG            16.041667   3.581100       23.033333   2.526153   \n",
       "YELLOWKNIFE         20.041667   6.423321       24.100000   0.000000   \n",
       "\n",
       "              Pressure (kPa)                 Hmdx           Wind Chill          \n",
       "                        mean       std       mean       std       mean     std  \n",
       "Station Name                                                                    \n",
       "CALGARY            88.990833  0.135548  25.000000       NaN        NaN     NaN  \n",
       "CHARLOTTETOWN     101.363750  0.252101        NaN       NaN     -3.000     NaN  \n",
       "EDMONTON           92.950833  0.152170  26.000000  0.000000        NaN     NaN  \n",
       "FREDERICTON       101.679565  0.250662        NaN       NaN        NaN     NaN  \n",
       "HALIFAX           100.328333  0.227571        NaN       NaN        NaN     NaN  \n",
       "IQALUIT           100.540417  0.144056        NaN       NaN    -13.125  1.2619  \n",
       "MONTREAL          101.318750  0.220756        NaN       NaN        NaN     NaN  \n",
       "OTTAWA            100.387500  0.240945        NaN       NaN        NaN     NaN  \n",
       "PRINCE GEORGE      93.307083  0.103818  25.000000  0.000000        NaN     NaN  \n",
       "QUEBEC            100.810833  0.309163  25.750000  0.500000        NaN     NaN  \n",
       "REGINA             94.327500  0.144471  26.777778  0.971825        NaN     NaN  \n",
       "SASKATOON          95.211667  0.244018  26.333333  1.366260        NaN     NaN  \n",
       "ST. JOHN'S         99.532500  0.497841        NaN       NaN        NaN     NaN  \n",
       "THUNDER BAY        99.130000  0.091652  25.666667  0.816497        NaN     NaN  \n",
       "TORONTO            99.551250  0.247234        NaN       NaN        NaN     NaN  \n",
       "VANCOUVER         101.455833  0.123673        NaN       NaN        NaN     NaN  \n",
       "VICTORIA          101.265833  0.123778  25.000000       NaN        NaN     NaN  \n",
       "WHITEHORSE         92.225000  0.103588        NaN       NaN        NaN     NaN  \n",
       "WINNIPEG           98.481250  0.067586  27.666667  1.224745        NaN     NaN  \n",
       "YELLOWKNIFE        98.066667  0.137071        NaN       NaN        NaN     NaN  "
      ]
     },
     "execution_count": 16,
     "metadata": {},
     "output_type": "execute_result"
    }
   ],
   "source": [
    "weather_all.groupby('Station Name').agg(['mean', 'std'])"
   ]
  },
  {
   "cell_type": "markdown",
   "metadata": {
    "slideshow": {
     "slide_type": "fragment"
    }
   },
   "source": [
    "We can also use `agg` to compute different statistics for different columns:"
   ]
  },
  {
   "cell_type": "code",
   "execution_count": 17,
   "metadata": {
    "slideshow": {
     "slide_type": "fragment"
    }
   },
   "outputs": [
    {
     "data": {
      "text/html": [
       "<div>\n",
       "<style scoped>\n",
       "    .dataframe tbody tr th:only-of-type {\n",
       "        vertical-align: middle;\n",
       "    }\n",
       "\n",
       "    .dataframe tbody tr th {\n",
       "        vertical-align: top;\n",
       "    }\n",
       "\n",
       "    .dataframe thead tr th {\n",
       "        text-align: left;\n",
       "    }\n",
       "\n",
       "    .dataframe thead tr:last-of-type th {\n",
       "        text-align: right;\n",
       "    }\n",
       "</style>\n",
       "<table border=\"1\" class=\"dataframe\">\n",
       "  <thead>\n",
       "    <tr>\n",
       "      <th></th>\n",
       "      <th colspan=\"3\" halign=\"left\">Temp (deg C)</th>\n",
       "      <th colspan=\"2\" halign=\"left\">Rel Hum (%)</th>\n",
       "    </tr>\n",
       "    <tr>\n",
       "      <th></th>\n",
       "      <th>min</th>\n",
       "      <th>median</th>\n",
       "      <th>max</th>\n",
       "      <th>mean</th>\n",
       "      <th>std</th>\n",
       "    </tr>\n",
       "    <tr>\n",
       "      <th>Station Name</th>\n",
       "      <th></th>\n",
       "      <th></th>\n",
       "      <th></th>\n",
       "      <th></th>\n",
       "      <th></th>\n",
       "    </tr>\n",
       "  </thead>\n",
       "  <tbody>\n",
       "    <tr>\n",
       "      <th>CALGARY</th>\n",
       "      <td>10.1</td>\n",
       "      <td>18.50</td>\n",
       "      <td>25.5</td>\n",
       "      <td>43.875000</td>\n",
       "      <td>15.671388</td>\n",
       "    </tr>\n",
       "    <tr>\n",
       "      <th>CHARLOTTETOWN</th>\n",
       "      <td>-1.4</td>\n",
       "      <td>8.25</td>\n",
       "      <td>17.7</td>\n",
       "      <td>59.666667</td>\n",
       "      <td>23.466288</td>\n",
       "    </tr>\n",
       "    <tr>\n",
       "      <th>EDMONTON</th>\n",
       "      <td>5.2</td>\n",
       "      <td>19.85</td>\n",
       "      <td>27.3</td>\n",
       "      <td>48.791667</td>\n",
       "      <td>22.675363</td>\n",
       "    </tr>\n",
       "    <tr>\n",
       "      <th>FREDERICTON</th>\n",
       "      <td>0.7</td>\n",
       "      <td>13.50</td>\n",
       "      <td>21.8</td>\n",
       "      <td>48.608696</td>\n",
       "      <td>24.882888</td>\n",
       "    </tr>\n",
       "    <tr>\n",
       "      <th>HALIFAX</th>\n",
       "      <td>6.9</td>\n",
       "      <td>13.00</td>\n",
       "      <td>17.4</td>\n",
       "      <td>40.041667</td>\n",
       "      <td>10.868699</td>\n",
       "    </tr>\n",
       "    <tr>\n",
       "      <th>IQALUIT</th>\n",
       "      <td>-7.1</td>\n",
       "      <td>-6.00</td>\n",
       "      <td>-2.8</td>\n",
       "      <td>77.625000</td>\n",
       "      <td>4.147419</td>\n",
       "    </tr>\n",
       "    <tr>\n",
       "      <th>MONTREAL</th>\n",
       "      <td>12.9</td>\n",
       "      <td>16.90</td>\n",
       "      <td>22.4</td>\n",
       "      <td>56.958333</td>\n",
       "      <td>13.505165</td>\n",
       "    </tr>\n",
       "    <tr>\n",
       "      <th>OTTAWA</th>\n",
       "      <td>12.3</td>\n",
       "      <td>15.10</td>\n",
       "      <td>22.1</td>\n",
       "      <td>68.541667</td>\n",
       "      <td>13.765044</td>\n",
       "    </tr>\n",
       "    <tr>\n",
       "      <th>PRINCE GEORGE</th>\n",
       "      <td>4.2</td>\n",
       "      <td>14.30</td>\n",
       "      <td>25.9</td>\n",
       "      <td>62.291667</td>\n",
       "      <td>24.333693</td>\n",
       "    </tr>\n",
       "    <tr>\n",
       "      <th>QUEBEC</th>\n",
       "      <td>6.5</td>\n",
       "      <td>15.10</td>\n",
       "      <td>25.6</td>\n",
       "      <td>47.666667</td>\n",
       "      <td>12.288795</td>\n",
       "    </tr>\n",
       "    <tr>\n",
       "      <th>REGINA</th>\n",
       "      <td>9.8</td>\n",
       "      <td>22.30</td>\n",
       "      <td>28.6</td>\n",
       "      <td>39.958333</td>\n",
       "      <td>15.121189</td>\n",
       "    </tr>\n",
       "    <tr>\n",
       "      <th>SASKATOON</th>\n",
       "      <td>12.1</td>\n",
       "      <td>17.70</td>\n",
       "      <td>28.6</td>\n",
       "      <td>48.708333</td>\n",
       "      <td>20.756307</td>\n",
       "    </tr>\n",
       "    <tr>\n",
       "      <th>ST. JOHN'S</th>\n",
       "      <td>3.0</td>\n",
       "      <td>4.85</td>\n",
       "      <td>7.8</td>\n",
       "      <td>75.916667</td>\n",
       "      <td>10.442042</td>\n",
       "    </tr>\n",
       "    <tr>\n",
       "      <th>THUNDER BAY</th>\n",
       "      <td>0.9</td>\n",
       "      <td>13.50</td>\n",
       "      <td>28.2</td>\n",
       "      <td>51.958333</td>\n",
       "      <td>28.881285</td>\n",
       "    </tr>\n",
       "    <tr>\n",
       "      <th>TORONTO</th>\n",
       "      <td>11.4</td>\n",
       "      <td>13.95</td>\n",
       "      <td>20.1</td>\n",
       "      <td>72.458333</td>\n",
       "      <td>23.843656</td>\n",
       "    </tr>\n",
       "    <tr>\n",
       "      <th>VANCOUVER</th>\n",
       "      <td>10.4</td>\n",
       "      <td>15.30</td>\n",
       "      <td>19.5</td>\n",
       "      <td>76.500000</td>\n",
       "      <td>10.966352</td>\n",
       "    </tr>\n",
       "    <tr>\n",
       "      <th>VICTORIA</th>\n",
       "      <td>10.0</td>\n",
       "      <td>16.20</td>\n",
       "      <td>22.6</td>\n",
       "      <td>72.625000</td>\n",
       "      <td>16.021216</td>\n",
       "    </tr>\n",
       "    <tr>\n",
       "      <th>WHITEHORSE</th>\n",
       "      <td>4.8</td>\n",
       "      <td>9.80</td>\n",
       "      <td>13.8</td>\n",
       "      <td>57.125000</td>\n",
       "      <td>17.121846</td>\n",
       "    </tr>\n",
       "    <tr>\n",
       "      <th>WINNIPEG</th>\n",
       "      <td>12.0</td>\n",
       "      <td>20.75</td>\n",
       "      <td>28.5</td>\n",
       "      <td>43.208333</td>\n",
       "      <td>21.198809</td>\n",
       "    </tr>\n",
       "    <tr>\n",
       "      <th>YELLOWKNIFE</th>\n",
       "      <td>7.0</td>\n",
       "      <td>15.55</td>\n",
       "      <td>23.1</td>\n",
       "      <td>45.041667</td>\n",
       "      <td>13.016642</td>\n",
       "    </tr>\n",
       "  </tbody>\n",
       "</table>\n",
       "</div>"
      ],
      "text/plain": [
       "              Temp (deg C)              Rel Hum (%)           \n",
       "                       min median   max        mean        std\n",
       "Station Name                                                  \n",
       "CALGARY               10.1  18.50  25.5   43.875000  15.671388\n",
       "CHARLOTTETOWN         -1.4   8.25  17.7   59.666667  23.466288\n",
       "EDMONTON               5.2  19.85  27.3   48.791667  22.675363\n",
       "FREDERICTON            0.7  13.50  21.8   48.608696  24.882888\n",
       "HALIFAX                6.9  13.00  17.4   40.041667  10.868699\n",
       "IQALUIT               -7.1  -6.00  -2.8   77.625000   4.147419\n",
       "MONTREAL              12.9  16.90  22.4   56.958333  13.505165\n",
       "OTTAWA                12.3  15.10  22.1   68.541667  13.765044\n",
       "PRINCE GEORGE          4.2  14.30  25.9   62.291667  24.333693\n",
       "QUEBEC                 6.5  15.10  25.6   47.666667  12.288795\n",
       "REGINA                 9.8  22.30  28.6   39.958333  15.121189\n",
       "SASKATOON             12.1  17.70  28.6   48.708333  20.756307\n",
       "ST. JOHN'S             3.0   4.85   7.8   75.916667  10.442042\n",
       "THUNDER BAY            0.9  13.50  28.2   51.958333  28.881285\n",
       "TORONTO               11.4  13.95  20.1   72.458333  23.843656\n",
       "VANCOUVER             10.4  15.30  19.5   76.500000  10.966352\n",
       "VICTORIA              10.0  16.20  22.6   72.625000  16.021216\n",
       "WHITEHORSE             4.8   9.80  13.8   57.125000  17.121846\n",
       "WINNIPEG              12.0  20.75  28.5   43.208333  21.198809\n",
       "YELLOWKNIFE            7.0  15.55  23.1   45.041667  13.016642"
      ]
     },
     "execution_count": 17,
     "metadata": {},
     "output_type": "execute_result"
    }
   ],
   "source": [
    "agg_dict = {'Temp (deg C)' : ['min', 'median', 'max'],\n",
    "            'Rel Hum (%)' : ['mean', 'std']}\n",
    "weather_all.groupby('Station Name').agg(agg_dict)"
   ]
  },
  {
   "cell_type": "markdown",
   "metadata": {
    "slideshow": {
     "slide_type": "fragment"
    }
   },
   "source": [
    "For even more complex aggregations, there is also a `pivot_table` method."
   ]
  },
  {
   "cell_type": "markdown",
   "metadata": {
    "slideshow": {
     "slide_type": "skip"
    }
   },
   "source": [
    "---"
   ]
  },
  {
   "cell_type": "markdown",
   "metadata": {
    "slideshow": {
     "slide_type": "slide"
    }
   },
   "source": [
    "Returning to our `weather_mean` data:"
   ]
  },
  {
   "cell_type": "code",
   "execution_count": 18,
   "metadata": {
    "slideshow": {
     "slide_type": "-"
    }
   },
   "outputs": [
    {
     "data": {
      "text/html": [
       "<div>\n",
       "<style scoped>\n",
       "    .dataframe tbody tr th:only-of-type {\n",
       "        vertical-align: middle;\n",
       "    }\n",
       "\n",
       "    .dataframe tbody tr th {\n",
       "        vertical-align: top;\n",
       "    }\n",
       "\n",
       "    .dataframe thead th {\n",
       "        text-align: right;\n",
       "    }\n",
       "</style>\n",
       "<table border=\"1\" class=\"dataframe\">\n",
       "  <thead>\n",
       "    <tr style=\"text-align: right;\">\n",
       "      <th></th>\n",
       "      <th>Temp (deg C)</th>\n",
       "      <th>Dew Point Temp (deg C)</th>\n",
       "      <th>Rel Hum (%)</th>\n",
       "      <th>Wind Dir (deg)</th>\n",
       "      <th>Wind Spd (km/h)</th>\n",
       "      <th>Visibility (km)</th>\n",
       "      <th>Pressure (kPa)</th>\n",
       "      <th>Hmdx</th>\n",
       "      <th>Wind Chill</th>\n",
       "    </tr>\n",
       "    <tr>\n",
       "      <th>Station Name</th>\n",
       "      <th></th>\n",
       "      <th></th>\n",
       "      <th></th>\n",
       "      <th></th>\n",
       "      <th></th>\n",
       "      <th></th>\n",
       "      <th></th>\n",
       "      <th></th>\n",
       "      <th></th>\n",
       "    </tr>\n",
       "  </thead>\n",
       "  <tbody>\n",
       "    <tr>\n",
       "      <th>CALGARY</th>\n",
       "      <td>18.054167</td>\n",
       "      <td>4.708333</td>\n",
       "      <td>43.875000</td>\n",
       "      <td>172.083333</td>\n",
       "      <td>10.625000</td>\n",
       "      <td>45.937500</td>\n",
       "      <td>88.990833</td>\n",
       "      <td>25.000000</td>\n",
       "      <td>NaN</td>\n",
       "    </tr>\n",
       "    <tr>\n",
       "      <th>CHARLOTTETOWN</th>\n",
       "      <td>8.637500</td>\n",
       "      <td>0.058333</td>\n",
       "      <td>59.666667</td>\n",
       "      <td>212.916667</td>\n",
       "      <td>12.500000</td>\n",
       "      <td>24.100000</td>\n",
       "      <td>101.363750</td>\n",
       "      <td>NaN</td>\n",
       "      <td>-3.000</td>\n",
       "    </tr>\n",
       "    <tr>\n",
       "      <th>EDMONTON</th>\n",
       "      <td>17.558333</td>\n",
       "      <td>5.037500</td>\n",
       "      <td>48.791667</td>\n",
       "      <td>208.333333</td>\n",
       "      <td>8.083333</td>\n",
       "      <td>24.100000</td>\n",
       "      <td>92.950833</td>\n",
       "      <td>26.000000</td>\n",
       "      <td>NaN</td>\n",
       "    </tr>\n",
       "    <tr>\n",
       "      <th>FREDERICTON</th>\n",
       "      <td>12.373913</td>\n",
       "      <td>0.086957</td>\n",
       "      <td>48.608696</td>\n",
       "      <td>247.222222</td>\n",
       "      <td>14.043478</td>\n",
       "      <td>16.100000</td>\n",
       "      <td>101.679565</td>\n",
       "      <td>NaN</td>\n",
       "      <td>NaN</td>\n",
       "    </tr>\n",
       "    <tr>\n",
       "      <th>HALIFAX</th>\n",
       "      <td>12.237500</td>\n",
       "      <td>-1.416667</td>\n",
       "      <td>40.041667</td>\n",
       "      <td>178.333333</td>\n",
       "      <td>15.500000</td>\n",
       "      <td>24.100000</td>\n",
       "      <td>100.328333</td>\n",
       "      <td>NaN</td>\n",
       "      <td>NaN</td>\n",
       "    </tr>\n",
       "    <tr>\n",
       "      <th>IQALUIT</th>\n",
       "      <td>-5.350000</td>\n",
       "      <td>-8.695833</td>\n",
       "      <td>77.625000</td>\n",
       "      <td>329.583333</td>\n",
       "      <td>29.625000</td>\n",
       "      <td>23.670833</td>\n",
       "      <td>100.540417</td>\n",
       "      <td>NaN</td>\n",
       "      <td>-13.125</td>\n",
       "    </tr>\n",
       "    <tr>\n",
       "      <th>MONTREAL</th>\n",
       "      <td>17.479167</td>\n",
       "      <td>8.550000</td>\n",
       "      <td>56.958333</td>\n",
       "      <td>195.000000</td>\n",
       "      <td>11.791667</td>\n",
       "      <td>29.141667</td>\n",
       "      <td>101.318750</td>\n",
       "      <td>NaN</td>\n",
       "      <td>NaN</td>\n",
       "    </tr>\n",
       "    <tr>\n",
       "      <th>OTTAWA</th>\n",
       "      <td>15.537500</td>\n",
       "      <td>9.516667</td>\n",
       "      <td>68.541667</td>\n",
       "      <td>194.583333</td>\n",
       "      <td>8.500000</td>\n",
       "      <td>23.766667</td>\n",
       "      <td>100.387500</td>\n",
       "      <td>NaN</td>\n",
       "      <td>NaN</td>\n",
       "    </tr>\n",
       "    <tr>\n",
       "      <th>PRINCE GEORGE</th>\n",
       "      <td>14.337500</td>\n",
       "      <td>5.883333</td>\n",
       "      <td>62.291667</td>\n",
       "      <td>141.538462</td>\n",
       "      <td>5.791667</td>\n",
       "      <td>15.900000</td>\n",
       "      <td>93.307083</td>\n",
       "      <td>25.000000</td>\n",
       "      <td>NaN</td>\n",
       "    </tr>\n",
       "    <tr>\n",
       "      <th>QUEBEC</th>\n",
       "      <td>15.366667</td>\n",
       "      <td>3.875000</td>\n",
       "      <td>47.666667</td>\n",
       "      <td>236.666667</td>\n",
       "      <td>13.291667</td>\n",
       "      <td>38.887500</td>\n",
       "      <td>100.810833</td>\n",
       "      <td>25.750000</td>\n",
       "      <td>NaN</td>\n",
       "    </tr>\n",
       "    <tr>\n",
       "      <th>REGINA</th>\n",
       "      <td>21.337500</td>\n",
       "      <td>6.279167</td>\n",
       "      <td>39.958333</td>\n",
       "      <td>221.666667</td>\n",
       "      <td>8.666667</td>\n",
       "      <td>24.100000</td>\n",
       "      <td>94.327500</td>\n",
       "      <td>26.777778</td>\n",
       "      <td>NaN</td>\n",
       "    </tr>\n",
       "    <tr>\n",
       "      <th>SASKATOON</th>\n",
       "      <td>19.308333</td>\n",
       "      <td>6.845833</td>\n",
       "      <td>48.708333</td>\n",
       "      <td>185.833333</td>\n",
       "      <td>12.208333</td>\n",
       "      <td>23.900000</td>\n",
       "      <td>95.211667</td>\n",
       "      <td>26.333333</td>\n",
       "      <td>NaN</td>\n",
       "    </tr>\n",
       "    <tr>\n",
       "      <th>ST. JOHN'S</th>\n",
       "      <td>4.862500</td>\n",
       "      <td>0.850000</td>\n",
       "      <td>75.916667</td>\n",
       "      <td>195.000000</td>\n",
       "      <td>23.625000</td>\n",
       "      <td>24.100000</td>\n",
       "      <td>99.532500</td>\n",
       "      <td>NaN</td>\n",
       "      <td>NaN</td>\n",
       "    </tr>\n",
       "    <tr>\n",
       "      <th>THUNDER BAY</th>\n",
       "      <td>14.625000</td>\n",
       "      <td>2.045833</td>\n",
       "      <td>51.958333</td>\n",
       "      <td>212.500000</td>\n",
       "      <td>11.583333</td>\n",
       "      <td>29.500000</td>\n",
       "      <td>99.130000</td>\n",
       "      <td>25.666667</td>\n",
       "      <td>NaN</td>\n",
       "    </tr>\n",
       "    <tr>\n",
       "      <th>TORONTO</th>\n",
       "      <td>14.833333</td>\n",
       "      <td>9.045833</td>\n",
       "      <td>72.458333</td>\n",
       "      <td>118.333333</td>\n",
       "      <td>6.708333</td>\n",
       "      <td>13.229167</td>\n",
       "      <td>99.551250</td>\n",
       "      <td>NaN</td>\n",
       "      <td>NaN</td>\n",
       "    </tr>\n",
       "    <tr>\n",
       "      <th>VANCOUVER</th>\n",
       "      <td>15.262500</td>\n",
       "      <td>11.016667</td>\n",
       "      <td>76.500000</td>\n",
       "      <td>234.583333</td>\n",
       "      <td>8.125000</td>\n",
       "      <td>44.275000</td>\n",
       "      <td>101.455833</td>\n",
       "      <td>NaN</td>\n",
       "      <td>NaN</td>\n",
       "    </tr>\n",
       "    <tr>\n",
       "      <th>VICTORIA</th>\n",
       "      <td>15.658333</td>\n",
       "      <td>10.408333</td>\n",
       "      <td>72.625000</td>\n",
       "      <td>192.500000</td>\n",
       "      <td>7.541667</td>\n",
       "      <td>42.262500</td>\n",
       "      <td>101.265833</td>\n",
       "      <td>25.000000</td>\n",
       "      <td>NaN</td>\n",
       "    </tr>\n",
       "    <tr>\n",
       "      <th>WHITEHORSE</th>\n",
       "      <td>9.183333</td>\n",
       "      <td>0.533333</td>\n",
       "      <td>57.125000</td>\n",
       "      <td>162.916667</td>\n",
       "      <td>20.333333</td>\n",
       "      <td>57.683333</td>\n",
       "      <td>92.225000</td>\n",
       "      <td>NaN</td>\n",
       "      <td>NaN</td>\n",
       "    </tr>\n",
       "    <tr>\n",
       "      <th>WINNIPEG</th>\n",
       "      <td>20.495833</td>\n",
       "      <td>5.929167</td>\n",
       "      <td>43.208333</td>\n",
       "      <td>187.916667</td>\n",
       "      <td>16.041667</td>\n",
       "      <td>23.033333</td>\n",
       "      <td>98.481250</td>\n",
       "      <td>27.666667</td>\n",
       "      <td>NaN</td>\n",
       "    </tr>\n",
       "    <tr>\n",
       "      <th>YELLOWKNIFE</th>\n",
       "      <td>15.400000</td>\n",
       "      <td>3.008333</td>\n",
       "      <td>45.041667</td>\n",
       "      <td>158.750000</td>\n",
       "      <td>20.041667</td>\n",
       "      <td>24.100000</td>\n",
       "      <td>98.066667</td>\n",
       "      <td>NaN</td>\n",
       "      <td>NaN</td>\n",
       "    </tr>\n",
       "  </tbody>\n",
       "</table>\n",
       "</div>"
      ],
      "text/plain": [
       "               Temp (deg C)  Dew Point Temp (deg C)  Rel Hum (%)  \\\n",
       "Station Name                                                       \n",
       "CALGARY           18.054167                4.708333    43.875000   \n",
       "CHARLOTTETOWN      8.637500                0.058333    59.666667   \n",
       "EDMONTON          17.558333                5.037500    48.791667   \n",
       "FREDERICTON       12.373913                0.086957    48.608696   \n",
       "HALIFAX           12.237500               -1.416667    40.041667   \n",
       "IQALUIT           -5.350000               -8.695833    77.625000   \n",
       "MONTREAL          17.479167                8.550000    56.958333   \n",
       "OTTAWA            15.537500                9.516667    68.541667   \n",
       "PRINCE GEORGE     14.337500                5.883333    62.291667   \n",
       "QUEBEC            15.366667                3.875000    47.666667   \n",
       "REGINA            21.337500                6.279167    39.958333   \n",
       "SASKATOON         19.308333                6.845833    48.708333   \n",
       "ST. JOHN'S         4.862500                0.850000    75.916667   \n",
       "THUNDER BAY       14.625000                2.045833    51.958333   \n",
       "TORONTO           14.833333                9.045833    72.458333   \n",
       "VANCOUVER         15.262500               11.016667    76.500000   \n",
       "VICTORIA          15.658333               10.408333    72.625000   \n",
       "WHITEHORSE         9.183333                0.533333    57.125000   \n",
       "WINNIPEG          20.495833                5.929167    43.208333   \n",
       "YELLOWKNIFE       15.400000                3.008333    45.041667   \n",
       "\n",
       "               Wind Dir (deg)  Wind Spd (km/h)  Visibility (km)  \\\n",
       "Station Name                                                      \n",
       "CALGARY            172.083333        10.625000        45.937500   \n",
       "CHARLOTTETOWN      212.916667        12.500000        24.100000   \n",
       "EDMONTON           208.333333         8.083333        24.100000   \n",
       "FREDERICTON        247.222222        14.043478        16.100000   \n",
       "HALIFAX            178.333333        15.500000        24.100000   \n",
       "IQALUIT            329.583333        29.625000        23.670833   \n",
       "MONTREAL           195.000000        11.791667        29.141667   \n",
       "OTTAWA             194.583333         8.500000        23.766667   \n",
       "PRINCE GEORGE      141.538462         5.791667        15.900000   \n",
       "QUEBEC             236.666667        13.291667        38.887500   \n",
       "REGINA             221.666667         8.666667        24.100000   \n",
       "SASKATOON          185.833333        12.208333        23.900000   \n",
       "ST. JOHN'S         195.000000        23.625000        24.100000   \n",
       "THUNDER BAY        212.500000        11.583333        29.500000   \n",
       "TORONTO            118.333333         6.708333        13.229167   \n",
       "VANCOUVER          234.583333         8.125000        44.275000   \n",
       "VICTORIA           192.500000         7.541667        42.262500   \n",
       "WHITEHORSE         162.916667        20.333333        57.683333   \n",
       "WINNIPEG           187.916667        16.041667        23.033333   \n",
       "YELLOWKNIFE        158.750000        20.041667        24.100000   \n",
       "\n",
       "               Pressure (kPa)       Hmdx  Wind Chill  \n",
       "Station Name                                          \n",
       "CALGARY             88.990833  25.000000         NaN  \n",
       "CHARLOTTETOWN      101.363750        NaN      -3.000  \n",
       "EDMONTON            92.950833  26.000000         NaN  \n",
       "FREDERICTON        101.679565        NaN         NaN  \n",
       "HALIFAX            100.328333        NaN         NaN  \n",
       "IQALUIT            100.540417        NaN     -13.125  \n",
       "MONTREAL           101.318750        NaN         NaN  \n",
       "OTTAWA             100.387500        NaN         NaN  \n",
       "PRINCE GEORGE       93.307083  25.000000         NaN  \n",
       "QUEBEC             100.810833  25.750000         NaN  \n",
       "REGINA              94.327500  26.777778         NaN  \n",
       "SASKATOON           95.211667  26.333333         NaN  \n",
       "ST. JOHN'S          99.532500        NaN         NaN  \n",
       "THUNDER BAY         99.130000  25.666667         NaN  \n",
       "TORONTO             99.551250        NaN         NaN  \n",
       "VANCOUVER          101.455833        NaN         NaN  \n",
       "VICTORIA           101.265833  25.000000         NaN  \n",
       "WHITEHORSE          92.225000        NaN         NaN  \n",
       "WINNIPEG            98.481250  27.666667         NaN  \n",
       "YELLOWKNIFE         98.066667        NaN         NaN  "
      ]
     },
     "execution_count": 18,
     "metadata": {},
     "output_type": "execute_result"
    }
   ],
   "source": [
    "weather_mean"
   ]
  },
  {
   "cell_type": "markdown",
   "metadata": {
    "slideshow": {
     "slide_type": "fragment"
    }
   },
   "source": [
    "Let's look at the temperature column:"
   ]
  },
  {
   "cell_type": "code",
   "execution_count": 19,
   "metadata": {
    "slideshow": {
     "slide_type": "fragment"
    }
   },
   "outputs": [
    {
     "data": {
      "text/plain": [
       "Station Name\n",
       "CALGARY          18.054167\n",
       "CHARLOTTETOWN     8.637500\n",
       "EDMONTON         17.558333\n",
       "FREDERICTON      12.373913\n",
       "HALIFAX          12.237500\n",
       "IQALUIT          -5.350000\n",
       "MONTREAL         17.479167\n",
       "OTTAWA           15.537500\n",
       "PRINCE GEORGE    14.337500\n",
       "QUEBEC           15.366667\n",
       "REGINA           21.337500\n",
       "SASKATOON        19.308333\n",
       "ST. JOHN'S        4.862500\n",
       "THUNDER BAY      14.625000\n",
       "TORONTO          14.833333\n",
       "VANCOUVER        15.262500\n",
       "VICTORIA         15.658333\n",
       "WHITEHORSE        9.183333\n",
       "WINNIPEG         20.495833\n",
       "YELLOWKNIFE      15.400000\n",
       "Name: Temp (deg C), dtype: float64"
      ]
     },
     "execution_count": 19,
     "metadata": {},
     "output_type": "execute_result"
    }
   ],
   "source": [
    "temp_mean = weather_mean['Temp (deg C)']\n",
    "temp_mean"
   ]
  },
  {
   "cell_type": "markdown",
   "metadata": {
    "slideshow": {
     "slide_type": "fragment"
    }
   },
   "source": [
    "What type of object is this?"
   ]
  },
  {
   "cell_type": "code",
   "execution_count": 20,
   "metadata": {
    "slideshow": {
     "slide_type": "fragment"
    }
   },
   "outputs": [
    {
     "data": {
      "text/plain": [
       "pandas.core.series.Series"
      ]
     },
     "execution_count": 20,
     "metadata": {},
     "output_type": "execute_result"
    }
   ],
   "source": [
    "type(temp_mean)"
   ]
  },
  {
   "cell_type": "markdown",
   "metadata": {
    "slideshow": {
     "slide_type": "fragment"
    }
   },
   "source": [
    "It is a Series, with the station names as its index.  We've a seen similar type of Series earlier with the output of the `value_counts` method."
   ]
  },
  {
   "cell_type": "markdown",
   "metadata": {
    "slideshow": {
     "slide_type": "fragment"
    }
   },
   "source": [
    "Looking at the `temp_mean` Series, we could pick out the warmest and coldest stations by eye, but it's much easier to see the rankings if we use the `sort_values` method\n",
    "- To sort a DataFrame, we have to specify which column we're sorting on, as an argument to `sort_values`\n",
    "- Since a Series is a single column of data, this argument is not needed"
   ]
  },
  {
   "cell_type": "code",
   "execution_count": 21,
   "metadata": {
    "slideshow": {
     "slide_type": "fragment"
    }
   },
   "outputs": [
    {
     "data": {
      "text/plain": [
       "Station Name\n",
       "IQALUIT          -5.350000\n",
       "ST. JOHN'S        4.862500\n",
       "CHARLOTTETOWN     8.637500\n",
       "WHITEHORSE        9.183333\n",
       "HALIFAX          12.237500\n",
       "FREDERICTON      12.373913\n",
       "PRINCE GEORGE    14.337500\n",
       "THUNDER BAY      14.625000\n",
       "TORONTO          14.833333\n",
       "VANCOUVER        15.262500\n",
       "QUEBEC           15.366667\n",
       "YELLOWKNIFE      15.400000\n",
       "OTTAWA           15.537500\n",
       "VICTORIA         15.658333\n",
       "MONTREAL         17.479167\n",
       "EDMONTON         17.558333\n",
       "CALGARY          18.054167\n",
       "SASKATOON        19.308333\n",
       "WINNIPEG         20.495833\n",
       "REGINA           21.337500\n",
       "Name: Temp (deg C), dtype: float64"
      ]
     },
     "execution_count": 21,
     "metadata": {},
     "output_type": "execute_result"
    }
   ],
   "source": [
    "temp_mean.sort_values()"
   ]
  },
  {
   "cell_type": "markdown",
   "metadata": {
    "slideshow": {
     "slide_type": "fragment"
    }
   },
   "source": [
    "Next, let's make a bar chart of the station mean temperatures."
   ]
  },
  {
   "cell_type": "markdown",
   "metadata": {
    "slideshow": {
     "slide_type": "slide"
    }
   },
   "source": [
    "# Plots\n",
    "\n",
    "- `pandas` DataFrames and Series provide methods to quickly and easily plot your data\n",
    "- These methods use the `matplotlib` library behind the scenes"
   ]
  },
  {
   "cell_type": "markdown",
   "metadata": {
    "slideshow": {
     "slide_type": "fragment"
    }
   },
   "source": [
    "First we need to use the magic command `%matplotlib inline` so that our plots will display inline in our Jupyter notebook\n",
    "- This command only needs to be run once, and it's good practice to put it at the start of your notebook with the `import` commands"
   ]
  },
  {
   "cell_type": "code",
   "execution_count": 22,
   "metadata": {
    "slideshow": {
     "slide_type": "-"
    }
   },
   "outputs": [],
   "source": [
    "%matplotlib inline"
   ]
  },
  {
   "cell_type": "markdown",
   "metadata": {
    "slideshow": {
     "slide_type": "slide"
    }
   },
   "source": [
    "We can create a bar chart of the `temp_mean` Series with the `plot` method\n",
    "- `plot` is a convenience method which allows us to quickly generate plots with useful defaults\n",
    "- We use the keyword argument `kind='bar'` to specify the chart type:"
   ]
  },
  {
   "cell_type": "code",
   "execution_count": 23,
   "metadata": {
    "slideshow": {
     "slide_type": "fragment"
    }
   },
   "outputs": [
    {
     "data": {
      "text/plain": [
       "<matplotlib.axes._subplots.AxesSubplot at 0x21b51def5f8>"
      ]
     },
     "execution_count": 23,
     "metadata": {},
     "output_type": "execute_result"
    },
    {
     "data": {
      "image/png": "[encoded data removed]",
      "text/plain": [
       "<Figure size 432x288 with 1 Axes>"
      ]
     },
     "metadata": {},
     "output_type": "display_data"
    }
   ],
   "source": [
    "temp_mean.plot(kind='bar')"
   ]
  },
  {
   "cell_type": "markdown",
   "metadata": {
    "slideshow": {
     "slide_type": "fragment"
    }
   },
   "source": [
    "- The x-axis is the Series index, which is the list of station names\n",
    "- The `plot` method returns a `matplotlib.Axes` object which is displayed as cell output\n",
    "  - To suppress displaying this output, add a semi-colon to the end of the command\n",
    "- It would be nice if the plot and font sizes were bigger and the bars were all the same colour"
   ]
  },
  {
   "cell_type": "markdown",
   "metadata": {
    "slideshow": {
     "slide_type": "slide"
    }
   },
   "source": [
    "If you display the documentation with `temp_mean.plot?` in your Jupyter notebook, you can see various keyword arguments available\n",
    "- Let's customize our plot with the `figsize`, `fontsize`, `colormap`, and `title` keyword arguments:"
   ]
  },
  {
   "cell_type": "code",
   "execution_count": 24,
   "metadata": {
    "slideshow": {
     "slide_type": "fragment"
    }
   },
   "outputs": [
    {
     "data": {
      "image/png": "[encoded data removed]",
      "text/plain": [
       "<Figure size 864x432 with 1 Axes>"
      ]
     },
     "metadata": {},
     "output_type": "display_data"
    }
   ],
   "source": [
    "temp_mean.plot(kind='bar', figsize=(12, 6), fontsize='large', \n",
    "               colormap='tab10', \n",
    "               title='24-hr Mean Temperatures (deg C)');"
   ]
  },
  {
   "cell_type": "markdown",
   "metadata": {
    "slideshow": {
     "slide_type": "fragment"
    }
   },
   "source": [
    "- The`'tab10'` colormap is a set of 10 default colours based on the palette from the data visualization software Tableau\n",
    "- For more on colours in `pandas` and `matplotlib`:\n",
    "  - https://matplotlib.org/users/colors.html\n",
    "  - https://matplotlib.org/users/colormaps.html"
   ]
  },
  {
   "cell_type": "markdown",
   "metadata": {
    "slideshow": {
     "slide_type": "fragment"
    }
   },
   "source": [
    "There are many more ways we could customize our plots (labels, axes limits and ticks, etc.) and many other types of plots that can be created with `pandas` and `matplotlib`. For more details and examples:\n",
    "- https://pandas.pydata.org/pandas-docs/stable/visualization.html\n",
    "- https://matplotlib.org/tutorials/introductory/pyplot.html#sphx-glr-tutorials-introductory-pyplot-py\n",
    "- https://matplotlib.org/tutorials/introductory/sample_plots.html"
   ]
  },
  {
   "cell_type": "markdown",
   "metadata": {
    "slideshow": {
     "slide_type": "slide"
    }
   },
   "source": [
    "# Lesson 2 Recap\n",
    "\n",
    "### Sorting\n",
    "\n",
    "Sorting a Series:\n",
    "```\n",
    "series_a.sort_values()\n",
    "```\n",
    "\n",
    "Sorting a DataFrame based on the values in the column `'Column B'`:\n",
    "```\n",
    "df.sort_values('Column B')\n",
    "```\n",
    "To sort in descending order, use the keyword argument `ascending=False`\n",
    "\n",
    "### Filtering\n",
    "\n",
    "To select a subset of rows with a filter:\n",
    "  - Create a filter (Boolean Series) using a comparison operator or other functions (such as the `isnull` method)\n",
    "  - Use the filter to extract the desired rows from the DataFrame\n",
    "\n",
    "Example: comparison operator\n",
    "```\n",
    "warm = weather_all['Temp (deg C)'] > 25\n",
    "weather_warm = weather_all[warm]\n",
    "```\n",
    "\n",
    "You can also use Boolean Series and DataFrames to count occurrences of specified criteria, for example: count the missing values in each column of a DataFrame with `df.isnull().sum()`\n",
    "\n",
    "\n",
    "### Aggregation\n",
    "\n",
    "For basic aggregation operations, use the `groupby` method chained with an aggregation method (e.g., `mean`, `sum`, `max`, `min`, `median`, `std`, `count`).\n",
    "\n",
    "For example, to find the mean values for data grouped by `'Column B'`: `\n",
    "```\n",
    "df.groupby('Column B').mean()\n",
    "```\n",
    "\n",
    "For more complex aggregations, you can use the `agg` method.\n",
    "- Specify a list of aggregation statistics, for example: \n",
    "```\n",
    "weather_all.groupby('Station Name').agg(['mean', 'std'])\n",
    "```\n",
    "- Use a dictionary to specify different aggregation statistics for different columns, for example:\n",
    "\n",
    "```\n",
    "agg_dict = {'Temp (deg C)' : ['min', 'median', 'max'],\n",
    "            'Rel Hum (%)' : ['mean', 'std']}\n",
    "weather_all.groupby('Station Name').agg(agg_dict)\n",
    "```\n",
    "\n",
    "### Plots\n",
    "\n",
    "To display `pandas` / `matplotlib` graphs inline in your Jupyter notebook, you need to run the following magic command:\n",
    "```\n",
    "%matplotlib inline\n",
    "```\n",
    "- This command only needs to be run once in a notebook\n",
    "- It's good practice to run this command at the same time as your `import` commands, near the start of your notebook\n",
    "\n",
    "Create quick and easy plots of Series and DataFrames with the `plot` method:\n",
    "- For example, to create a bar chart of one column of a DataFrame:\n",
    "  - `df['A'].plot(kind='bar')`\n",
    "- Plots can be adjusted with keyword arguments such as `figsize`, `fontsize`, `title`, `colormap`"
   ]
  },
  {
   "cell_type": "markdown",
   "metadata": {
    "slideshow": {
     "slide_type": "slide"
    }
   },
   "source": [
    "# Exercise 2.2\n",
    "\n",
    "For this exercise, we'll be working with `'data/bc-popular-girls-names.csv'`:\n",
    "- 100 years of baby girl names in British Columbia (1915-2014)\n",
    "- The data includes every first name that was chosen five or more times in a given year\n",
    "- Each row corresponds to one name and one year\n",
    "  - `'Count'` column: total count for that name in that year\n",
    "  - `'Fraction'` column: this name's share of the total of all baby girls for that year\n",
    "  \n",
    "a) Read the data file into a DataFrame and display summary statistics with the `describe` method.\n",
    "\n",
    "- (i) What are the range of values (minimum and maximum) for the `'Year'`, `'Count'`, and `'Fraction'` columns? \n",
    "- (ii) The maximum value of `'Count'` represents the highest count of baby girls with the same name in a single year &mdash; what were this name and year?\n",
    "- (iii) The maximum value of `'Fraction'` represents the highest _fraction_ (out of the total births for that year) of baby girls with the same name; what were this name and year? How do the count and fraction for this name and year compare with the values for the name/year from part (ii)?\n",
    "\n",
    "b) Aggregate the data by grouping on the `'Year'` column and taking the `sum`. The `'Count'` column of the resulting DataFrame represents the total number of baby girls per year in this data&mdash;create a line plot of this column.\n",
    "\n",
    "c) Compute the grand total for each name over the whole 100 years by grouping on `'Name'` and taking the `sum`. Extract the `'Count'` column from this DataFrame (it's the only column that is meaningful in this aggregation) and use this Series to find the top 10 most common girls names and plot their grand totals in a bar chart.\n",
    "\n",
    "\n",
    "d) Create a filter to extract the data rows for the name `'MARY'`. To explore the popularity of this name over time, create a line plot of this name's share of the total in each year by plotting the `'Fraction'` column vs. the `'Year'` column, with the name `'MARY'` as title.\n",
    "- Repeat the above steps for `'JENNIFER'` and any other name(s) of interest (if they're in the data)\n",
    "- How do the trends over time for the name Mary compare with the name Jennifer?\n",
    "\n",
    "_Hint: Check out the documentation for the `plot` method of a DataFrame. You'll see a `title` keyword argument, as well as a couple of extra keyword arguments (`x` and `y`) that aren't in `plot` method for a Series._"
   ]
  },
  {
   "cell_type": "markdown",
   "metadata": {
    "slideshow": {
     "slide_type": "-"
    }
   },
   "source": [
    "##### Bonus Exercises\n",
    "\n",
    "e) Most popular names in recent years: Compute grand totals for each name, as in part (c), but only including the years from 2000 onwards. What are the top 10 most common girls names from 2000-present?\n",
    "\n",
    "f) Trends in name diversity: Compute the number of unique names per year and plot this data as a line chart. How has name diversity evolved over time?\n",
    "\n",
    "_Hint: The data is organized such that for each year, there is exactly one row for each unique name in that year, so grouping on `'Year'` and aggregating with `count` will give the unique count we're looking for._\n",
    "\n",
    "g) Compute 100-year summary statistics grouped by name as in part (c), but with the following modifications:\n",
    "- Use the `agg` function to calculate the following statistics for each name:\n",
    "  - For the `'Year'` column: earliest year, latest year, number of years\n",
    "  - For the `'Count'` column: grand total (sum), lowest yearly count, highest yearly count, mean yearly count\n",
    "- Display a random sampling of 50 rows of the resulting DataFrame with the `sample` method.\n",
    "\n",
    "h) Repeat any or all of parts (a)-(g) to explore the boys names data in `'data/bc-popular-boys-names.csv'`."
   ]
  },
  {
   "cell_type": "markdown",
   "metadata": {
    "slideshow": {
     "slide_type": "skip"
    }
   },
   "source": [
    "---"
   ]
  },
  {
   "cell_type": "markdown",
   "metadata": {
    "slideshow": {
     "slide_type": "slide"
    }
   },
   "source": [
    "a) Read the data file into a DataFrame and display summary statistics with the `describe` method.\n",
    "\n",
    "- (i) What are the range of values (minimum and maximum) for the `'Year'`, `'Count'`, and `'Fraction'` columns?"
   ]
  },
  {
   "cell_type": "code",
   "execution_count": null,
   "metadata": {},
   "outputs": [],
   "source": []
  },
  {
   "cell_type": "code",
   "execution_count": null,
   "metadata": {},
   "outputs": [],
   "source": []
  },
  {
   "cell_type": "markdown",
   "metadata": {
    "slideshow": {
     "slide_type": "fragment"
    }
   },
   "source": [
    "- (ii) The maximum value of `'Count'` represents the highest count of baby girls with the same name in a single year &mdash; what were this name and year?"
   ]
  },
  {
   "cell_type": "code",
   "execution_count": null,
   "metadata": {},
   "outputs": [],
   "source": []
  },
  {
   "cell_type": "code",
   "execution_count": null,
   "metadata": {},
   "outputs": [],
   "source": []
  },
  {
   "cell_type": "markdown",
   "metadata": {
    "slideshow": {
     "slide_type": "fragment"
    }
   },
   "source": [
    "- (iii) The maximum value of `'Fraction'` represents the highest _fraction_ (out of the total births for that year) of baby girls with the same name; what were this name and year? How do the count and fraction for this name and year compare with the values for the name/year from part (ii)?"
   ]
  },
  {
   "cell_type": "code",
   "execution_count": null,
   "metadata": {},
   "outputs": [],
   "source": []
  },
  {
   "cell_type": "code",
   "execution_count": null,
   "metadata": {},
   "outputs": [],
   "source": []
  },
  {
   "cell_type": "markdown",
   "metadata": {
    "slideshow": {
     "slide_type": "slide"
    }
   },
   "source": [
    "b) Aggregate the data by grouping on the `'Year'` column and taking the `sum`. The `'Count'` column of the resulting DataFrame represents the total number of baby girls per year in this data&mdash;create a line plot of this column."
   ]
  },
  {
   "cell_type": "code",
   "execution_count": null,
   "metadata": {},
   "outputs": [],
   "source": []
  },
  {
   "cell_type": "code",
   "execution_count": null,
   "metadata": {},
   "outputs": [],
   "source": []
  },
  {
   "cell_type": "markdown",
   "metadata": {
    "slideshow": {
     "slide_type": "slide"
    }
   },
   "source": [
    "c) Compute the grand total for each name over the whole 100 years by grouping on `'Name'` and taking the `sum`. Extract the `'Count'` column from this DataFrame (it's the only column that is meaningful in this aggregation) and use this Series to find the top 10 most common girls names and plot their grand totals in a bar chart."
   ]
  },
  {
   "cell_type": "code",
   "execution_count": null,
   "metadata": {},
   "outputs": [],
   "source": []
  },
  {
   "cell_type": "code",
   "execution_count": null,
   "metadata": {},
   "outputs": [],
   "source": []
  },
  {
   "cell_type": "code",
   "execution_count": null,
   "metadata": {},
   "outputs": [],
   "source": []
  },
  {
   "cell_type": "code",
   "execution_count": null,
   "metadata": {},
   "outputs": [],
   "source": []
  },
  {
   "cell_type": "markdown",
   "metadata": {
    "slideshow": {
     "slide_type": "slide"
    }
   },
   "source": [
    "d) Create a filter to extract the data rows for the name `'MARY'`. To explore the popularity of this name over time, create a line plot of this name's share of the total in each year by plotting the `'Fraction'` column vs. the `'Year'` column, with the name `'MARY'` as title.\n",
    "\n",
    "_Hint: Check out the documentation for the `plot` method of a DataFrame. You'll see a `title` keyword argument, as well as a couple of extra keyword arguments (`x` and `y`) that aren't in `plot` method for a Series._"
   ]
  },
  {
   "cell_type": "code",
   "execution_count": null,
   "metadata": {},
   "outputs": [],
   "source": []
  },
  {
   "cell_type": "code",
   "execution_count": null,
   "metadata": {},
   "outputs": [],
   "source": []
  },
  {
   "cell_type": "code",
   "execution_count": null,
   "metadata": {},
   "outputs": [],
   "source": []
  },
  {
   "cell_type": "markdown",
   "metadata": {
    "slideshow": {
     "slide_type": "fragment"
    }
   },
   "source": [
    "- Repeat the above steps for `'JENNIFER'` and any other name(s) of interest (if they're in the data)\n",
    " - How do the trends over time for the name Mary compare with the name Jennifer?"
   ]
  },
  {
   "cell_type": "code",
   "execution_count": null,
   "metadata": {},
   "outputs": [],
   "source": []
  },
  {
   "cell_type": "code",
   "execution_count": null,
   "metadata": {},
   "outputs": [],
   "source": []
  },
  {
   "cell_type": "code",
   "execution_count": null,
   "metadata": {},
   "outputs": [],
   "source": []
  }
 ],
 "metadata": {
  "celltoolbar": "Slideshow",
  "kernelspec": {
   "display_name": "Python [default]",
   "language": "python",
   "name": "python3"
  },
  "language_info": {
   "codemirror_mode": {
    "name": "ipython",
    "version": 3
   },
   "file_extension": ".py",
   "mimetype": "text/x-python",
   "name": "python",
   "nbconvert_exporter": "python",
   "pygments_lexer": "ipython3",
   "version": "3.6.4"
  },
  "livereveal": {
   "scroll": true,
   "theme": "solarized",
   "transition": "none"
  }
 },
 "nbformat": 4,
 "nbformat_minor": 2
}
